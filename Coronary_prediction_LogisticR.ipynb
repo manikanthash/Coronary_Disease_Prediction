{
 "cells": [
  {
   "cell_type": "markdown",
   "id": "d89de197",
   "metadata": {},
   "source": [
    "# Ten year Coronary Risk prediction"
   ]
  },
  {
   "cell_type": "code",
   "execution_count": 1,
   "id": "b969acc7",
   "metadata": {},
   "outputs": [],
   "source": [
    "import pandas as pd \n",
    "import pandas as pd \n",
    "import numpy as np \n",
    "import matplotlib.pyplot as plt\n",
    "import seaborn as sns"
   ]
  },
  {
   "cell_type": "code",
   "execution_count": 2,
   "id": "46a15b7f",
   "metadata": {},
   "outputs": [],
   "source": [
    "import seaborn as sns\n",
    "import scipy\n",
    "from scipy import stats\n",
    "import statsmodels.api as sm\n",
    "from scipy.stats import chi2, chi2_contingency\n",
    "from warnings import filterwarnings\n",
    "filterwarnings('ignore')\n",
    "from statsmodels.formula.api import ols\n",
    "from statsmodels.stats.multicomp import pairwise_tukeyhsd\n",
    "from sklearn import preprocessing\n",
    "plt.rc(\"font\", size=14)\n",
    "from sklearn.linear_model import LogisticRegression\n",
    "from sklearn.model_selection import train_test_split"
   ]
  },
  {
   "cell_type": "code",
   "execution_count": 3,
   "id": "aa69142b",
   "metadata": {},
   "outputs": [],
   "source": [
    "df = pd.read_csv(r'C:\\Users\\Manikantha\\Desktop\\kaggle\\Logistic Regression\\Coronary_prediction\\coronary_prediction.csv')"
   ]
  },
  {
   "cell_type": "code",
   "execution_count": 4,
   "id": "c1809872",
   "metadata": {},
   "outputs": [
    {
     "data": {
      "text/plain": [
       "(4238, 16)"
      ]
     },
     "execution_count": 4,
     "metadata": {},
     "output_type": "execute_result"
    }
   ],
   "source": [
    "df.shape"
   ]
  },
  {
   "cell_type": "code",
   "execution_count": 5,
   "id": "045fd8cf",
   "metadata": {},
   "outputs": [
    {
     "data": {
      "text/html": [
       "<div>\n",
       "<style scoped>\n",
       "    .dataframe tbody tr th:only-of-type {\n",
       "        vertical-align: middle;\n",
       "    }\n",
       "\n",
       "    .dataframe tbody tr th {\n",
       "        vertical-align: top;\n",
       "    }\n",
       "\n",
       "    .dataframe thead th {\n",
       "        text-align: right;\n",
       "    }\n",
       "</style>\n",
       "<table border=\"1\" class=\"dataframe\">\n",
       "  <thead>\n",
       "    <tr style=\"text-align: right;\">\n",
       "      <th></th>\n",
       "      <th>Gender</th>\n",
       "      <th>age</th>\n",
       "      <th>education</th>\n",
       "      <th>currentSmoker</th>\n",
       "      <th>cigsPerDay</th>\n",
       "      <th>BPMeds</th>\n",
       "      <th>prevalentStroke</th>\n",
       "      <th>prevalentHyp</th>\n",
       "      <th>diabetes</th>\n",
       "      <th>totChol</th>\n",
       "      <th>sysBP</th>\n",
       "      <th>diaBP</th>\n",
       "      <th>BMI</th>\n",
       "      <th>heartRate</th>\n",
       "      <th>glucose</th>\n",
       "      <th>TenYearCHD</th>\n",
       "    </tr>\n",
       "  </thead>\n",
       "  <tbody>\n",
       "    <tr>\n",
       "      <th>0</th>\n",
       "      <td>1</td>\n",
       "      <td>39</td>\n",
       "      <td>4.0</td>\n",
       "      <td>0</td>\n",
       "      <td>0.0</td>\n",
       "      <td>0.0</td>\n",
       "      <td>0</td>\n",
       "      <td>0</td>\n",
       "      <td>0</td>\n",
       "      <td>195.0</td>\n",
       "      <td>106.0</td>\n",
       "      <td>70.0</td>\n",
       "      <td>26.97</td>\n",
       "      <td>80.0</td>\n",
       "      <td>77.0</td>\n",
       "      <td>0</td>\n",
       "    </tr>\n",
       "    <tr>\n",
       "      <th>1</th>\n",
       "      <td>0</td>\n",
       "      <td>46</td>\n",
       "      <td>2.0</td>\n",
       "      <td>0</td>\n",
       "      <td>0.0</td>\n",
       "      <td>0.0</td>\n",
       "      <td>0</td>\n",
       "      <td>0</td>\n",
       "      <td>0</td>\n",
       "      <td>250.0</td>\n",
       "      <td>121.0</td>\n",
       "      <td>81.0</td>\n",
       "      <td>28.73</td>\n",
       "      <td>95.0</td>\n",
       "      <td>76.0</td>\n",
       "      <td>0</td>\n",
       "    </tr>\n",
       "    <tr>\n",
       "      <th>2</th>\n",
       "      <td>1</td>\n",
       "      <td>48</td>\n",
       "      <td>1.0</td>\n",
       "      <td>1</td>\n",
       "      <td>20.0</td>\n",
       "      <td>0.0</td>\n",
       "      <td>0</td>\n",
       "      <td>0</td>\n",
       "      <td>0</td>\n",
       "      <td>245.0</td>\n",
       "      <td>127.5</td>\n",
       "      <td>80.0</td>\n",
       "      <td>25.34</td>\n",
       "      <td>75.0</td>\n",
       "      <td>70.0</td>\n",
       "      <td>0</td>\n",
       "    </tr>\n",
       "    <tr>\n",
       "      <th>3</th>\n",
       "      <td>0</td>\n",
       "      <td>61</td>\n",
       "      <td>3.0</td>\n",
       "      <td>1</td>\n",
       "      <td>30.0</td>\n",
       "      <td>0.0</td>\n",
       "      <td>0</td>\n",
       "      <td>1</td>\n",
       "      <td>0</td>\n",
       "      <td>225.0</td>\n",
       "      <td>150.0</td>\n",
       "      <td>95.0</td>\n",
       "      <td>28.58</td>\n",
       "      <td>65.0</td>\n",
       "      <td>103.0</td>\n",
       "      <td>1</td>\n",
       "    </tr>\n",
       "    <tr>\n",
       "      <th>4</th>\n",
       "      <td>0</td>\n",
       "      <td>46</td>\n",
       "      <td>3.0</td>\n",
       "      <td>1</td>\n",
       "      <td>23.0</td>\n",
       "      <td>0.0</td>\n",
       "      <td>0</td>\n",
       "      <td>0</td>\n",
       "      <td>0</td>\n",
       "      <td>285.0</td>\n",
       "      <td>130.0</td>\n",
       "      <td>84.0</td>\n",
       "      <td>23.10</td>\n",
       "      <td>85.0</td>\n",
       "      <td>85.0</td>\n",
       "      <td>0</td>\n",
       "    </tr>\n",
       "    <tr>\n",
       "      <th>5</th>\n",
       "      <td>0</td>\n",
       "      <td>43</td>\n",
       "      <td>2.0</td>\n",
       "      <td>0</td>\n",
       "      <td>0.0</td>\n",
       "      <td>0.0</td>\n",
       "      <td>0</td>\n",
       "      <td>1</td>\n",
       "      <td>0</td>\n",
       "      <td>228.0</td>\n",
       "      <td>180.0</td>\n",
       "      <td>110.0</td>\n",
       "      <td>30.30</td>\n",
       "      <td>77.0</td>\n",
       "      <td>99.0</td>\n",
       "      <td>0</td>\n",
       "    </tr>\n",
       "    <tr>\n",
       "      <th>6</th>\n",
       "      <td>0</td>\n",
       "      <td>63</td>\n",
       "      <td>1.0</td>\n",
       "      <td>0</td>\n",
       "      <td>0.0</td>\n",
       "      <td>0.0</td>\n",
       "      <td>0</td>\n",
       "      <td>0</td>\n",
       "      <td>0</td>\n",
       "      <td>205.0</td>\n",
       "      <td>138.0</td>\n",
       "      <td>71.0</td>\n",
       "      <td>33.11</td>\n",
       "      <td>60.0</td>\n",
       "      <td>85.0</td>\n",
       "      <td>1</td>\n",
       "    </tr>\n",
       "    <tr>\n",
       "      <th>7</th>\n",
       "      <td>0</td>\n",
       "      <td>45</td>\n",
       "      <td>2.0</td>\n",
       "      <td>1</td>\n",
       "      <td>20.0</td>\n",
       "      <td>0.0</td>\n",
       "      <td>0</td>\n",
       "      <td>0</td>\n",
       "      <td>0</td>\n",
       "      <td>313.0</td>\n",
       "      <td>100.0</td>\n",
       "      <td>71.0</td>\n",
       "      <td>21.68</td>\n",
       "      <td>79.0</td>\n",
       "      <td>78.0</td>\n",
       "      <td>0</td>\n",
       "    </tr>\n",
       "    <tr>\n",
       "      <th>8</th>\n",
       "      <td>1</td>\n",
       "      <td>52</td>\n",
       "      <td>1.0</td>\n",
       "      <td>0</td>\n",
       "      <td>0.0</td>\n",
       "      <td>0.0</td>\n",
       "      <td>0</td>\n",
       "      <td>1</td>\n",
       "      <td>0</td>\n",
       "      <td>260.0</td>\n",
       "      <td>141.5</td>\n",
       "      <td>89.0</td>\n",
       "      <td>26.36</td>\n",
       "      <td>76.0</td>\n",
       "      <td>79.0</td>\n",
       "      <td>0</td>\n",
       "    </tr>\n",
       "    <tr>\n",
       "      <th>9</th>\n",
       "      <td>1</td>\n",
       "      <td>43</td>\n",
       "      <td>1.0</td>\n",
       "      <td>1</td>\n",
       "      <td>30.0</td>\n",
       "      <td>0.0</td>\n",
       "      <td>0</td>\n",
       "      <td>1</td>\n",
       "      <td>0</td>\n",
       "      <td>225.0</td>\n",
       "      <td>162.0</td>\n",
       "      <td>107.0</td>\n",
       "      <td>23.61</td>\n",
       "      <td>93.0</td>\n",
       "      <td>88.0</td>\n",
       "      <td>0</td>\n",
       "    </tr>\n",
       "  </tbody>\n",
       "</table>\n",
       "</div>"
      ],
      "text/plain": [
       "   Gender  age  education  currentSmoker  cigsPerDay  BPMeds  prevalentStroke  \\\n",
       "0       1   39        4.0              0         0.0     0.0                0   \n",
       "1       0   46        2.0              0         0.0     0.0                0   \n",
       "2       1   48        1.0              1        20.0     0.0                0   \n",
       "3       0   61        3.0              1        30.0     0.0                0   \n",
       "4       0   46        3.0              1        23.0     0.0                0   \n",
       "5       0   43        2.0              0         0.0     0.0                0   \n",
       "6       0   63        1.0              0         0.0     0.0                0   \n",
       "7       0   45        2.0              1        20.0     0.0                0   \n",
       "8       1   52        1.0              0         0.0     0.0                0   \n",
       "9       1   43        1.0              1        30.0     0.0                0   \n",
       "\n",
       "   prevalentHyp  diabetes  totChol  sysBP  diaBP    BMI  heartRate  glucose  \\\n",
       "0             0         0    195.0  106.0   70.0  26.97       80.0     77.0   \n",
       "1             0         0    250.0  121.0   81.0  28.73       95.0     76.0   \n",
       "2             0         0    245.0  127.5   80.0  25.34       75.0     70.0   \n",
       "3             1         0    225.0  150.0   95.0  28.58       65.0    103.0   \n",
       "4             0         0    285.0  130.0   84.0  23.10       85.0     85.0   \n",
       "5             1         0    228.0  180.0  110.0  30.30       77.0     99.0   \n",
       "6             0         0    205.0  138.0   71.0  33.11       60.0     85.0   \n",
       "7             0         0    313.0  100.0   71.0  21.68       79.0     78.0   \n",
       "8             1         0    260.0  141.5   89.0  26.36       76.0     79.0   \n",
       "9             1         0    225.0  162.0  107.0  23.61       93.0     88.0   \n",
       "\n",
       "   TenYearCHD  \n",
       "0           0  \n",
       "1           0  \n",
       "2           0  \n",
       "3           1  \n",
       "4           0  \n",
       "5           0  \n",
       "6           1  \n",
       "7           0  \n",
       "8           0  \n",
       "9           0  "
      ]
     },
     "execution_count": 5,
     "metadata": {},
     "output_type": "execute_result"
    }
   ],
   "source": [
    "df.head(10)"
   ]
  },
  {
   "cell_type": "code",
   "execution_count": 6,
   "id": "169bf4a5",
   "metadata": {},
   "outputs": [
    {
     "name": "stdout",
     "output_type": "stream",
     "text": [
      "<class 'pandas.core.frame.DataFrame'>\n",
      "RangeIndex: 4238 entries, 0 to 4237\n",
      "Data columns (total 16 columns):\n",
      " #   Column           Non-Null Count  Dtype  \n",
      "---  ------           --------------  -----  \n",
      " 0   Gender           4238 non-null   int64  \n",
      " 1   age              4238 non-null   int64  \n",
      " 2   education        4133 non-null   float64\n",
      " 3   currentSmoker    4238 non-null   int64  \n",
      " 4   cigsPerDay       4209 non-null   float64\n",
      " 5   BPMeds           4185 non-null   float64\n",
      " 6   prevalentStroke  4238 non-null   int64  \n",
      " 7   prevalentHyp     4238 non-null   int64  \n",
      " 8   diabetes         4238 non-null   int64  \n",
      " 9   totChol          4188 non-null   float64\n",
      " 10  sysBP            4238 non-null   float64\n",
      " 11  diaBP            4238 non-null   float64\n",
      " 12  BMI              4219 non-null   float64\n",
      " 13  heartRate        4237 non-null   float64\n",
      " 14  glucose          3850 non-null   float64\n",
      " 15  TenYearCHD       4238 non-null   int64  \n",
      "dtypes: float64(9), int64(7)\n",
      "memory usage: 529.9 KB\n"
     ]
    }
   ],
   "source": [
    "df.info()"
   ]
  },
  {
   "cell_type": "code",
   "execution_count": 7,
   "id": "74c144dc",
   "metadata": {},
   "outputs": [
    {
     "data": {
      "text/html": [
       "<div>\n",
       "<style scoped>\n",
       "    .dataframe tbody tr th:only-of-type {\n",
       "        vertical-align: middle;\n",
       "    }\n",
       "\n",
       "    .dataframe tbody tr th {\n",
       "        vertical-align: top;\n",
       "    }\n",
       "\n",
       "    .dataframe thead th {\n",
       "        text-align: right;\n",
       "    }\n",
       "</style>\n",
       "<table border=\"1\" class=\"dataframe\">\n",
       "  <thead>\n",
       "    <tr style=\"text-align: right;\">\n",
       "      <th></th>\n",
       "      <th>Gender</th>\n",
       "      <th>age</th>\n",
       "      <th>education</th>\n",
       "      <th>currentSmoker</th>\n",
       "      <th>cigsPerDay</th>\n",
       "      <th>BPMeds</th>\n",
       "      <th>prevalentStroke</th>\n",
       "      <th>prevalentHyp</th>\n",
       "      <th>diabetes</th>\n",
       "      <th>totChol</th>\n",
       "      <th>sysBP</th>\n",
       "      <th>diaBP</th>\n",
       "      <th>BMI</th>\n",
       "      <th>heartRate</th>\n",
       "      <th>glucose</th>\n",
       "      <th>TenYearCHD</th>\n",
       "    </tr>\n",
       "  </thead>\n",
       "  <tbody>\n",
       "    <tr>\n",
       "      <th>count</th>\n",
       "      <td>4238.000000</td>\n",
       "      <td>4238.000000</td>\n",
       "      <td>4133.000000</td>\n",
       "      <td>4238.000000</td>\n",
       "      <td>4209.000000</td>\n",
       "      <td>4185.000000</td>\n",
       "      <td>4238.000000</td>\n",
       "      <td>4238.000000</td>\n",
       "      <td>4238.000000</td>\n",
       "      <td>4188.000000</td>\n",
       "      <td>4238.000000</td>\n",
       "      <td>4238.000000</td>\n",
       "      <td>4219.000000</td>\n",
       "      <td>4237.000000</td>\n",
       "      <td>3850.000000</td>\n",
       "      <td>4238.000000</td>\n",
       "    </tr>\n",
       "    <tr>\n",
       "      <th>mean</th>\n",
       "      <td>0.429212</td>\n",
       "      <td>49.584946</td>\n",
       "      <td>1.978950</td>\n",
       "      <td>0.494101</td>\n",
       "      <td>9.003089</td>\n",
       "      <td>0.029630</td>\n",
       "      <td>0.005899</td>\n",
       "      <td>0.310524</td>\n",
       "      <td>0.025720</td>\n",
       "      <td>236.721585</td>\n",
       "      <td>132.352407</td>\n",
       "      <td>82.893464</td>\n",
       "      <td>25.802008</td>\n",
       "      <td>75.878924</td>\n",
       "      <td>81.966753</td>\n",
       "      <td>0.151958</td>\n",
       "    </tr>\n",
       "    <tr>\n",
       "      <th>std</th>\n",
       "      <td>0.495022</td>\n",
       "      <td>8.572160</td>\n",
       "      <td>1.019791</td>\n",
       "      <td>0.500024</td>\n",
       "      <td>11.920094</td>\n",
       "      <td>0.169584</td>\n",
       "      <td>0.076587</td>\n",
       "      <td>0.462763</td>\n",
       "      <td>0.158316</td>\n",
       "      <td>44.590334</td>\n",
       "      <td>22.038097</td>\n",
       "      <td>11.910850</td>\n",
       "      <td>4.080111</td>\n",
       "      <td>12.026596</td>\n",
       "      <td>23.959998</td>\n",
       "      <td>0.359023</td>\n",
       "    </tr>\n",
       "    <tr>\n",
       "      <th>min</th>\n",
       "      <td>0.000000</td>\n",
       "      <td>32.000000</td>\n",
       "      <td>1.000000</td>\n",
       "      <td>0.000000</td>\n",
       "      <td>0.000000</td>\n",
       "      <td>0.000000</td>\n",
       "      <td>0.000000</td>\n",
       "      <td>0.000000</td>\n",
       "      <td>0.000000</td>\n",
       "      <td>107.000000</td>\n",
       "      <td>83.500000</td>\n",
       "      <td>48.000000</td>\n",
       "      <td>15.540000</td>\n",
       "      <td>44.000000</td>\n",
       "      <td>40.000000</td>\n",
       "      <td>0.000000</td>\n",
       "    </tr>\n",
       "    <tr>\n",
       "      <th>25%</th>\n",
       "      <td>0.000000</td>\n",
       "      <td>42.000000</td>\n",
       "      <td>1.000000</td>\n",
       "      <td>0.000000</td>\n",
       "      <td>0.000000</td>\n",
       "      <td>0.000000</td>\n",
       "      <td>0.000000</td>\n",
       "      <td>0.000000</td>\n",
       "      <td>0.000000</td>\n",
       "      <td>206.000000</td>\n",
       "      <td>117.000000</td>\n",
       "      <td>75.000000</td>\n",
       "      <td>23.070000</td>\n",
       "      <td>68.000000</td>\n",
       "      <td>71.000000</td>\n",
       "      <td>0.000000</td>\n",
       "    </tr>\n",
       "    <tr>\n",
       "      <th>50%</th>\n",
       "      <td>0.000000</td>\n",
       "      <td>49.000000</td>\n",
       "      <td>2.000000</td>\n",
       "      <td>0.000000</td>\n",
       "      <td>0.000000</td>\n",
       "      <td>0.000000</td>\n",
       "      <td>0.000000</td>\n",
       "      <td>0.000000</td>\n",
       "      <td>0.000000</td>\n",
       "      <td>234.000000</td>\n",
       "      <td>128.000000</td>\n",
       "      <td>82.000000</td>\n",
       "      <td>25.400000</td>\n",
       "      <td>75.000000</td>\n",
       "      <td>78.000000</td>\n",
       "      <td>0.000000</td>\n",
       "    </tr>\n",
       "    <tr>\n",
       "      <th>75%</th>\n",
       "      <td>1.000000</td>\n",
       "      <td>56.000000</td>\n",
       "      <td>3.000000</td>\n",
       "      <td>1.000000</td>\n",
       "      <td>20.000000</td>\n",
       "      <td>0.000000</td>\n",
       "      <td>0.000000</td>\n",
       "      <td>1.000000</td>\n",
       "      <td>0.000000</td>\n",
       "      <td>263.000000</td>\n",
       "      <td>144.000000</td>\n",
       "      <td>89.875000</td>\n",
       "      <td>28.040000</td>\n",
       "      <td>83.000000</td>\n",
       "      <td>87.000000</td>\n",
       "      <td>0.000000</td>\n",
       "    </tr>\n",
       "    <tr>\n",
       "      <th>max</th>\n",
       "      <td>1.000000</td>\n",
       "      <td>70.000000</td>\n",
       "      <td>4.000000</td>\n",
       "      <td>1.000000</td>\n",
       "      <td>70.000000</td>\n",
       "      <td>1.000000</td>\n",
       "      <td>1.000000</td>\n",
       "      <td>1.000000</td>\n",
       "      <td>1.000000</td>\n",
       "      <td>696.000000</td>\n",
       "      <td>295.000000</td>\n",
       "      <td>142.500000</td>\n",
       "      <td>56.800000</td>\n",
       "      <td>143.000000</td>\n",
       "      <td>394.000000</td>\n",
       "      <td>1.000000</td>\n",
       "    </tr>\n",
       "  </tbody>\n",
       "</table>\n",
       "</div>"
      ],
      "text/plain": [
       "            Gender          age    education  currentSmoker   cigsPerDay  \\\n",
       "count  4238.000000  4238.000000  4133.000000    4238.000000  4209.000000   \n",
       "mean      0.429212    49.584946     1.978950       0.494101     9.003089   \n",
       "std       0.495022     8.572160     1.019791       0.500024    11.920094   \n",
       "min       0.000000    32.000000     1.000000       0.000000     0.000000   \n",
       "25%       0.000000    42.000000     1.000000       0.000000     0.000000   \n",
       "50%       0.000000    49.000000     2.000000       0.000000     0.000000   \n",
       "75%       1.000000    56.000000     3.000000       1.000000    20.000000   \n",
       "max       1.000000    70.000000     4.000000       1.000000    70.000000   \n",
       "\n",
       "            BPMeds  prevalentStroke  prevalentHyp     diabetes      totChol  \\\n",
       "count  4185.000000      4238.000000   4238.000000  4238.000000  4188.000000   \n",
       "mean      0.029630         0.005899      0.310524     0.025720   236.721585   \n",
       "std       0.169584         0.076587      0.462763     0.158316    44.590334   \n",
       "min       0.000000         0.000000      0.000000     0.000000   107.000000   \n",
       "25%       0.000000         0.000000      0.000000     0.000000   206.000000   \n",
       "50%       0.000000         0.000000      0.000000     0.000000   234.000000   \n",
       "75%       0.000000         0.000000      1.000000     0.000000   263.000000   \n",
       "max       1.000000         1.000000      1.000000     1.000000   696.000000   \n",
       "\n",
       "             sysBP        diaBP          BMI    heartRate      glucose  \\\n",
       "count  4238.000000  4238.000000  4219.000000  4237.000000  3850.000000   \n",
       "mean    132.352407    82.893464    25.802008    75.878924    81.966753   \n",
       "std      22.038097    11.910850     4.080111    12.026596    23.959998   \n",
       "min      83.500000    48.000000    15.540000    44.000000    40.000000   \n",
       "25%     117.000000    75.000000    23.070000    68.000000    71.000000   \n",
       "50%     128.000000    82.000000    25.400000    75.000000    78.000000   \n",
       "75%     144.000000    89.875000    28.040000    83.000000    87.000000   \n",
       "max     295.000000   142.500000    56.800000   143.000000   394.000000   \n",
       "\n",
       "        TenYearCHD  \n",
       "count  4238.000000  \n",
       "mean      0.151958  \n",
       "std       0.359023  \n",
       "min       0.000000  \n",
       "25%       0.000000  \n",
       "50%       0.000000  \n",
       "75%       0.000000  \n",
       "max       1.000000  "
      ]
     },
     "execution_count": 7,
     "metadata": {},
     "output_type": "execute_result"
    }
   ],
   "source": [
    "df.describe()"
   ]
  },
  {
   "cell_type": "code",
   "execution_count": 8,
   "id": "06d00a6c",
   "metadata": {},
   "outputs": [
    {
     "data": {
      "text/plain": [
       "Gender               0\n",
       "age                  0\n",
       "education          105\n",
       "currentSmoker        0\n",
       "cigsPerDay          29\n",
       "BPMeds              53\n",
       "prevalentStroke      0\n",
       "prevalentHyp         0\n",
       "diabetes             0\n",
       "totChol             50\n",
       "sysBP                0\n",
       "diaBP                0\n",
       "BMI                 19\n",
       "heartRate            1\n",
       "glucose            388\n",
       "TenYearCHD           0\n",
       "dtype: int64"
      ]
     },
     "execution_count": 8,
     "metadata": {},
     "output_type": "execute_result"
    }
   ],
   "source": [
    "df.isnull().sum()"
   ]
  },
  {
   "cell_type": "markdown",
   "id": "30fa5457",
   "metadata": {},
   "source": [
    "# Gender"
   ]
  },
  {
   "cell_type": "code",
   "execution_count": 9,
   "id": "b0eacf5c",
   "metadata": {
    "scrolled": true
   },
   "outputs": [
    {
     "data": {
      "text/plain": [
       "count    4238.000000\n",
       "mean        0.429212\n",
       "std         0.495022\n",
       "min         0.000000\n",
       "25%         0.000000\n",
       "50%         0.000000\n",
       "75%         1.000000\n",
       "max         1.000000\n",
       "Name: Gender, dtype: float64"
      ]
     },
     "execution_count": 9,
     "metadata": {},
     "output_type": "execute_result"
    }
   ],
   "source": [
    "df.Gender.describe()"
   ]
  },
  {
   "cell_type": "code",
   "execution_count": 10,
   "id": "f33e14a6",
   "metadata": {},
   "outputs": [
    {
     "data": {
      "text/plain": [
       "0"
      ]
     },
     "execution_count": 10,
     "metadata": {},
     "output_type": "execute_result"
    }
   ],
   "source": [
    "df.Gender.isnull().sum()"
   ]
  },
  {
   "cell_type": "code",
   "execution_count": 11,
   "id": "8932c976",
   "metadata": {},
   "outputs": [
    {
     "data": {
      "text/plain": [
       "Text(0.5, 1.0, 'Gender - count')"
      ]
     },
     "execution_count": 11,
     "metadata": {},
     "output_type": "execute_result"
    },
    {
     "data": {
      "image/png": "[encoded data removed]",
      "text/plain": [
       "<Figure size 432x288 with 1 Axes>"
      ]
     },
     "metadata": {
      "needs_background": "light"
     },
     "output_type": "display_data"
    }
   ],
   "source": [
    "sns.countplot(x = 'Gender', data = df)\n",
    "plt.title('Gender - count')"
   ]
  },
  {
   "cell_type": "code",
   "execution_count": 12,
   "id": "9e80e99e",
   "metadata": {},
   "outputs": [
    {
     "data": {
      "text/html": [
       "<div>\n",
       "<style scoped>\n",
       "    .dataframe tbody tr th:only-of-type {\n",
       "        vertical-align: middle;\n",
       "    }\n",
       "\n",
       "    .dataframe tbody tr th {\n",
       "        vertical-align: top;\n",
       "    }\n",
       "\n",
       "    .dataframe thead th {\n",
       "        text-align: right;\n",
       "    }\n",
       "</style>\n",
       "<table border=\"1\" class=\"dataframe\">\n",
       "  <thead>\n",
       "    <tr style=\"text-align: right;\">\n",
       "      <th>TenYearCHD</th>\n",
       "      <th>0</th>\n",
       "      <th>1</th>\n",
       "    </tr>\n",
       "    <tr>\n",
       "      <th>Gender</th>\n",
       "      <th></th>\n",
       "      <th></th>\n",
       "    </tr>\n",
       "  </thead>\n",
       "  <tbody>\n",
       "    <tr>\n",
       "      <th>0</th>\n",
       "      <td>2118</td>\n",
       "      <td>301</td>\n",
       "    </tr>\n",
       "    <tr>\n",
       "      <th>1</th>\n",
       "      <td>1476</td>\n",
       "      <td>343</td>\n",
       "    </tr>\n",
       "  </tbody>\n",
       "</table>\n",
       "</div>"
      ],
      "text/plain": [
       "TenYearCHD     0    1\n",
       "Gender               \n",
       "0           2118  301\n",
       "1           1476  343"
      ]
     },
     "execution_count": 12,
     "metadata": {},
     "output_type": "execute_result"
    }
   ],
   "source": [
    "ct_Gender = pd.crosstab(df.Gender, df.TenYearCHD)\n",
    "ct_Gender"
   ]
  },
  {
   "cell_type": "code",
   "execution_count": 13,
   "id": "c269eec7",
   "metadata": {},
   "outputs": [
    {
     "data": {
      "text/plain": [
       "(33.13876412178594,\n",
       " 8.581080129462392e-09,\n",
       " 1,\n",
       " array([[2051.41245871,  367.58754129],\n",
       "        [1542.58754129,  276.41245871]]))"
      ]
     },
     "execution_count": 13,
     "metadata": {},
     "output_type": "execute_result"
    }
   ],
   "source": [
    "chi2_contingency(ct_Gender, correction = False)"
   ]
  },
  {
   "cell_type": "code",
   "execution_count": 14,
   "id": "f48bd577",
   "metadata": {},
   "outputs": [
    {
     "data": {
      "text/plain": [
       "Text(0.5, 1.0, 'Gender VS  TenYearCHD')"
      ]
     },
     "execution_count": 14,
     "metadata": {},
     "output_type": "execute_result"
    },
    {
     "data": {
      "image/png": "[encoded data removed]",
      "text/plain": [
       "<Figure size 432x288 with 1 Axes>"
      ]
     },
     "metadata": {
      "needs_background": "light"
     },
     "output_type": "display_data"
    }
   ],
   "source": [
    "sns.countplot(df.Gender, hue = df.TenYearCHD, palette = 'bright')\n",
    "plt.title('Gender VS  TenYearCHD')"
   ]
  },
  {
   "cell_type": "code",
   "execution_count": 15,
   "id": "db881809",
   "metadata": {},
   "outputs": [
    {
     "data": {
      "image/png": "[encoded data removed]",
      "text/plain": [
       "<Figure size 720x432 with 1 Axes>"
      ]
     },
     "metadata": {
      "needs_background": "light"
     },
     "output_type": "display_data"
    }
   ],
   "source": [
    "ct_Gender.plot(kind='bar', \n",
    "                    stacked=True, \n",
    "                    colormap='tab10', \n",
    "                    figsize=(10, 6))\n",
    "\n",
    "plt.legend(loc=\"upper left\", ncol=2)\n",
    "plt.xlabel(\"Gender\")\n",
    "plt.ylabel(\"Proportion\")\n",
    "plt.show()\n",
    "#good predictor"
   ]
  },
  {
   "cell_type": "markdown",
   "id": "e88f942f",
   "metadata": {},
   "source": [
    "# age"
   ]
  },
  {
   "cell_type": "code",
   "execution_count": 16,
   "id": "ba0aa0db",
   "metadata": {},
   "outputs": [
    {
     "data": {
      "text/plain": [
       "count    4238.000000\n",
       "mean       49.584946\n",
       "std         8.572160\n",
       "min        32.000000\n",
       "25%        42.000000\n",
       "50%        49.000000\n",
       "75%        56.000000\n",
       "max        70.000000\n",
       "Name: age, dtype: float64"
      ]
     },
     "execution_count": 16,
     "metadata": {},
     "output_type": "execute_result"
    }
   ],
   "source": [
    "df.age.describe()"
   ]
  },
  {
   "cell_type": "code",
   "execution_count": 17,
   "id": "35e11fce",
   "metadata": {},
   "outputs": [
    {
     "name": "stdout",
     "output_type": "stream",
     "text": [
      "Skewness: 0.228146\n",
      "Kurtosis: -0.989636\n"
     ]
    },
    {
     "data": {
      "image/png": "[encoded data removed]",
      "text/plain": [
       "<Figure size 432x288 with 1 Axes>"
      ]
     },
     "metadata": {
      "needs_background": "light"
     },
     "output_type": "display_data"
    }
   ],
   "source": [
    "sns.distplot(df['age']);\n",
    "\n",
    "print(\"Skewness: %f\" % df['age'].skew())\n",
    "print(\"Kurtosis: %f\" % df['age'].kurt())\n",
    "#Age Data is normaly Distributed skewness and kurtosis are also in the normality range."
   ]
  },
  {
   "cell_type": "code",
   "execution_count": 18,
   "id": "7bc1066f",
   "metadata": {},
   "outputs": [
    {
     "data": {
      "text/plain": [
       "<AxesSubplot:xlabel='age'>"
      ]
     },
     "execution_count": 18,
     "metadata": {},
     "output_type": "execute_result"
    },
    {
     "data": {
      "image/png": "[encoded data removed]",
      "text/plain": [
       "<Figure size 432x288 with 1 Axes>"
      ]
     },
     "metadata": {
      "needs_background": "light"
     },
     "output_type": "display_data"
    }
   ],
   "source": [
    "sns.boxplot(df.age)"
   ]
  },
  {
   "cell_type": "code",
   "execution_count": 19,
   "id": "bcc6e87c",
   "metadata": {},
   "outputs": [
    {
     "name": "stdout",
     "output_type": "stream",
     "text": [
      "              df      sum_sq    mean_sq          F        PR(>F)\n",
      "age          1.0   27.711250  27.711250  226.42483  6.845009e-50\n",
      "Residual  4236.0  518.427494   0.122386        NaN           NaN\n"
     ]
    }
   ],
   "source": [
    "#Hypothesis Testing\n",
    "import statsmodels.api as sm\n",
    "from statsmodels.formula.api import ols\n",
    "mod = ols('TenYearCHD ~ age', data = df).fit()\n",
    "aov_table = sm.stats.anova_lm(mod, type = 2)\n",
    "print(aov_table)\n",
    "#6.845009e-50 ie p_value is <0.05; Ho Reject; Good Predictor"
   ]
  },
  {
   "cell_type": "markdown",
   "id": "d9920db1",
   "metadata": {},
   "source": [
    "# education-Highest education received"
   ]
  },
  {
   "cell_type": "code",
   "execution_count": 20,
   "id": "a3c9fd01",
   "metadata": {},
   "outputs": [
    {
     "data": {
      "text/plain": [
       "count    4133.000000\n",
       "mean        1.978950\n",
       "std         1.019791\n",
       "min         1.000000\n",
       "25%         1.000000\n",
       "50%         2.000000\n",
       "75%         3.000000\n",
       "max         4.000000\n",
       "Name: education, dtype: float64"
      ]
     },
     "execution_count": 20,
     "metadata": {},
     "output_type": "execute_result"
    }
   ],
   "source": [
    "df.education.describe()"
   ]
  },
  {
   "cell_type": "code",
   "execution_count": 21,
   "id": "8287a61e",
   "metadata": {},
   "outputs": [
    {
     "data": {
      "text/plain": [
       "105"
      ]
     },
     "execution_count": 21,
     "metadata": {},
     "output_type": "execute_result"
    }
   ],
   "source": [
    "df.education.isnull().sum()"
   ]
  },
  {
   "cell_type": "code",
   "execution_count": 22,
   "id": "4f9994e6",
   "metadata": {},
   "outputs": [],
   "source": [
    "df.education.fillna(df.education.mode()[0],inplace=True)"
   ]
  },
  {
   "cell_type": "code",
   "execution_count": 23,
   "id": "79b77e99",
   "metadata": {},
   "outputs": [
    {
     "data": {
      "text/plain": [
       "0"
      ]
     },
     "execution_count": 23,
     "metadata": {},
     "output_type": "execute_result"
    }
   ],
   "source": [
    "df.education.isnull().sum()"
   ]
  },
  {
   "cell_type": "code",
   "execution_count": 24,
   "id": "4a36e87a",
   "metadata": {},
   "outputs": [
    {
     "data": {
      "text/plain": [
       "Text(0.5, 1.0, 'education - count')"
      ]
     },
     "execution_count": 24,
     "metadata": {},
     "output_type": "execute_result"
    },
    {
     "data": {
      "image/png": "[encoded data removed]",
      "text/plain": [
       "<Figure size 432x288 with 1 Axes>"
      ]
     },
     "metadata": {
      "needs_background": "light"
     },
     "output_type": "display_data"
    }
   ],
   "source": [
    "sns.countplot(x = 'education', data = df)\n",
    "plt.title('education - count')"
   ]
  },
  {
   "cell_type": "code",
   "execution_count": 25,
   "id": "5fb69bea",
   "metadata": {},
   "outputs": [
    {
     "data": {
      "text/html": [
       "<div>\n",
       "<style scoped>\n",
       "    .dataframe tbody tr th:only-of-type {\n",
       "        vertical-align: middle;\n",
       "    }\n",
       "\n",
       "    .dataframe tbody tr th {\n",
       "        vertical-align: top;\n",
       "    }\n",
       "\n",
       "    .dataframe thead th {\n",
       "        text-align: right;\n",
       "    }\n",
       "</style>\n",
       "<table border=\"1\" class=\"dataframe\">\n",
       "  <thead>\n",
       "    <tr style=\"text-align: right;\">\n",
       "      <th>TenYearCHD</th>\n",
       "      <th>0</th>\n",
       "      <th>1</th>\n",
       "    </tr>\n",
       "    <tr>\n",
       "      <th>education</th>\n",
       "      <th></th>\n",
       "      <th></th>\n",
       "    </tr>\n",
       "  </thead>\n",
       "  <tbody>\n",
       "    <tr>\n",
       "      <th>1.0</th>\n",
       "      <td>1486</td>\n",
       "      <td>339</td>\n",
       "    </tr>\n",
       "    <tr>\n",
       "      <th>2.0</th>\n",
       "      <td>1106</td>\n",
       "      <td>147</td>\n",
       "    </tr>\n",
       "    <tr>\n",
       "      <th>3.0</th>\n",
       "      <td>599</td>\n",
       "      <td>88</td>\n",
       "    </tr>\n",
       "    <tr>\n",
       "      <th>4.0</th>\n",
       "      <td>403</td>\n",
       "      <td>70</td>\n",
       "    </tr>\n",
       "  </tbody>\n",
       "</table>\n",
       "</div>"
      ],
      "text/plain": [
       "TenYearCHD     0    1\n",
       "education            \n",
       "1.0         1486  339\n",
       "2.0         1106  147\n",
       "3.0          599   88\n",
       "4.0          403   70"
      ]
     },
     "execution_count": 25,
     "metadata": {},
     "output_type": "execute_result"
    }
   ],
   "source": [
    "ct_Education = pd.crosstab(df.education, df.TenYearCHD)\n",
    "ct_Education"
   ]
  },
  {
   "cell_type": "code",
   "execution_count": 26,
   "id": "240a7564",
   "metadata": {},
   "outputs": [
    {
     "data": {
      "text/plain": [
       "(30.93552881168504,\n",
       " 8.770368701361081e-07,\n",
       " 3,\n",
       " array([[1547.67579047,  277.32420953],\n",
       "        [1062.59603587,  190.40396413],\n",
       "        [ 582.60453044,  104.39546956],\n",
       "        [ 401.12364323,   71.87635677]]))"
      ]
     },
     "execution_count": 26,
     "metadata": {},
     "output_type": "execute_result"
    }
   ],
   "source": [
    "chi2_contingency(ct_Education, correction = False)"
   ]
  },
  {
   "cell_type": "code",
   "execution_count": 27,
   "id": "1a93c676",
   "metadata": {},
   "outputs": [
    {
     "data": {
      "text/plain": [
       "Text(0.5, 1.0, 'Education VS  TenYearCHD')"
      ]
     },
     "execution_count": 27,
     "metadata": {},
     "output_type": "execute_result"
    },
    {
     "data": {
      "image/png": "[encoded data removed]",
      "text/plain": [
       "<Figure size 432x288 with 1 Axes>"
      ]
     },
     "metadata": {
      "needs_background": "light"
     },
     "output_type": "display_data"
    }
   ],
   "source": [
    "sns.countplot(df.education, hue = df.TenYearCHD, palette = 'bright')\n",
    "plt.title('Education VS  TenYearCHD')"
   ]
  },
  {
   "cell_type": "code",
   "execution_count": 28,
   "id": "eabe75ff",
   "metadata": {},
   "outputs": [
    {
     "data": {
      "image/png": "[encoded data removed]",
      "text/plain": [
       "<Figure size 720x432 with 1 Axes>"
      ]
     },
     "metadata": {
      "needs_background": "light"
     },
     "output_type": "display_data"
    }
   ],
   "source": [
    "ct_Education.plot(kind='bar', \n",
    "                    stacked=True, \n",
    "                    colormap='tab10', \n",
    "                    figsize=(10, 6))\n",
    "\n",
    "plt.legend(loc=\"upper left\", ncol=2)\n",
    "plt.xlabel(\"Education\")\n",
    "plt.ylabel(\"Proportion\")\n",
    "plt.show()\n",
    "#good predictor"
   ]
  },
  {
   "cell_type": "code",
   "execution_count": 29,
   "id": "8f369ab3",
   "metadata": {},
   "outputs": [
    {
     "name": "stdout",
     "output_type": "stream",
     "text": [
      "               df      sum_sq   mean_sq          F    PR(>F)\n",
      "education     1.0    1.523254  1.523254  11.847819  0.000583\n",
      "Residual   4236.0  544.615490  0.128568        NaN       NaN\n"
     ]
    }
   ],
   "source": [
    "#Hypothesis Testing\n",
    "#if we consider education as ordinal data\n",
    "import statsmodels.api as sm\n",
    "from statsmodels.formula.api import ols\n",
    "mod = ols('TenYearCHD ~ education', data = df).fit()\n",
    "aov_table = sm.stats.anova_lm(mod, type = 2)\n",
    "print(aov_table)\n",
    "#0.000583 ie p_value is <0.05; Ho Reject; Good Predictor"
   ]
  },
  {
   "cell_type": "markdown",
   "id": "1724a6c8",
   "metadata": {},
   "source": [
    "# currentSmoker"
   ]
  },
  {
   "cell_type": "code",
   "execution_count": 30,
   "id": "dc6677cc",
   "metadata": {
    "scrolled": true
   },
   "outputs": [
    {
     "data": {
      "text/plain": [
       "count    4238.000000\n",
       "mean        0.494101\n",
       "std         0.500024\n",
       "min         0.000000\n",
       "25%         0.000000\n",
       "50%         0.000000\n",
       "75%         1.000000\n",
       "max         1.000000\n",
       "Name: currentSmoker, dtype: float64"
      ]
     },
     "execution_count": 30,
     "metadata": {},
     "output_type": "execute_result"
    }
   ],
   "source": [
    "df.currentSmoker.describe()"
   ]
  },
  {
   "cell_type": "code",
   "execution_count": 31,
   "id": "0009e0a2",
   "metadata": {},
   "outputs": [
    {
     "data": {
      "text/plain": [
       "0"
      ]
     },
     "execution_count": 31,
     "metadata": {},
     "output_type": "execute_result"
    }
   ],
   "source": [
    "df.currentSmoker.isnull().sum()"
   ]
  },
  {
   "cell_type": "code",
   "execution_count": 32,
   "id": "cedb2ba9",
   "metadata": {},
   "outputs": [
    {
     "data": {
      "text/plain": [
       "Text(0.5, 1.0, 'currentSmoker - count')"
      ]
     },
     "execution_count": 32,
     "metadata": {},
     "output_type": "execute_result"
    },
    {
     "data": {
      "image/png": "[encoded data removed]",
      "text/plain": [
       "<Figure size 432x288 with 1 Axes>"
      ]
     },
     "metadata": {
      "needs_background": "light"
     },
     "output_type": "display_data"
    }
   ],
   "source": [
    "sns.countplot(x = 'currentSmoker', data = df)\n",
    "plt.title('currentSmoker - count')"
   ]
  },
  {
   "cell_type": "code",
   "execution_count": 33,
   "id": "58f4c1e1",
   "metadata": {},
   "outputs": [
    {
     "data": {
      "text/html": [
       "<div>\n",
       "<style scoped>\n",
       "    .dataframe tbody tr th:only-of-type {\n",
       "        vertical-align: middle;\n",
       "    }\n",
       "\n",
       "    .dataframe tbody tr th {\n",
       "        vertical-align: top;\n",
       "    }\n",
       "\n",
       "    .dataframe thead th {\n",
       "        text-align: right;\n",
       "    }\n",
       "</style>\n",
       "<table border=\"1\" class=\"dataframe\">\n",
       "  <thead>\n",
       "    <tr style=\"text-align: right;\">\n",
       "      <th>TenYearCHD</th>\n",
       "      <th>0</th>\n",
       "      <th>1</th>\n",
       "    </tr>\n",
       "    <tr>\n",
       "      <th>currentSmoker</th>\n",
       "      <th></th>\n",
       "      <th></th>\n",
       "    </tr>\n",
       "  </thead>\n",
       "  <tbody>\n",
       "    <tr>\n",
       "      <th>0</th>\n",
       "      <td>1833</td>\n",
       "      <td>311</td>\n",
       "    </tr>\n",
       "    <tr>\n",
       "      <th>1</th>\n",
       "      <td>1761</td>\n",
       "      <td>333</td>\n",
       "    </tr>\n",
       "  </tbody>\n",
       "</table>\n",
       "</div>"
      ],
      "text/plain": [
       "TenYearCHD        0    1\n",
       "currentSmoker           \n",
       "0              1833  311\n",
       "1              1761  333"
      ]
     },
     "execution_count": 33,
     "metadata": {},
     "output_type": "execute_result"
    }
   ],
   "source": [
    "ct_currentSmoker = pd.crosstab(df.currentSmoker, df.TenYearCHD)\n",
    "ct_currentSmoker"
   ]
  },
  {
   "cell_type": "code",
   "execution_count": 34,
   "id": "e7573d96",
   "metadata": {},
   "outputs": [
    {
     "data": {
      "text/plain": [
       "(1.6042792098599596,\n",
       " 0.20529783701529147,\n",
       " 1,\n",
       " array([[1818.20103823,  325.79896177],\n",
       "        [1775.79896177,  318.20103823]]))"
      ]
     },
     "execution_count": 34,
     "metadata": {},
     "output_type": "execute_result"
    }
   ],
   "source": [
    "#bad predictor\n",
    "chi2_contingency(ct_currentSmoker, correction = False)"
   ]
  },
  {
   "cell_type": "markdown",
   "id": "3a1d579d",
   "metadata": {},
   "source": [
    "p value is greater than 0.05 accept the null.i.e.There is no difference"
   ]
  },
  {
   "cell_type": "markdown",
   "id": "f8614170",
   "metadata": {},
   "source": [
    "# cigsPerDay"
   ]
  },
  {
   "cell_type": "code",
   "execution_count": 35,
   "id": "c93e52e3",
   "metadata": {},
   "outputs": [
    {
     "data": {
      "text/plain": [
       "count    4209.000000\n",
       "mean        9.003089\n",
       "std        11.920094\n",
       "min         0.000000\n",
       "25%         0.000000\n",
       "50%         0.000000\n",
       "75%        20.000000\n",
       "max        70.000000\n",
       "Name: cigsPerDay, dtype: float64"
      ]
     },
     "execution_count": 35,
     "metadata": {},
     "output_type": "execute_result"
    }
   ],
   "source": [
    "df.cigsPerDay.describe()"
   ]
  },
  {
   "cell_type": "code",
   "execution_count": 36,
   "id": "3fa3e1bc",
   "metadata": {},
   "outputs": [
    {
     "data": {
      "text/plain": [
       "29"
      ]
     },
     "execution_count": 36,
     "metadata": {},
     "output_type": "execute_result"
    }
   ],
   "source": [
    "df.cigsPerDay.isnull().sum()"
   ]
  },
  {
   "cell_type": "code",
   "execution_count": 37,
   "id": "b0a50856",
   "metadata": {},
   "outputs": [],
   "source": [
    "df.cigsPerDay.fillna(df.cigsPerDay.median(),inplace=True)"
   ]
  },
  {
   "cell_type": "code",
   "execution_count": 38,
   "id": "e480c345",
   "metadata": {},
   "outputs": [
    {
     "data": {
      "text/plain": [
       "0"
      ]
     },
     "execution_count": 38,
     "metadata": {},
     "output_type": "execute_result"
    }
   ],
   "source": [
    "df.cigsPerDay.isnull().sum()"
   ]
  },
  {
   "cell_type": "code",
   "execution_count": 39,
   "id": "8e0def6a",
   "metadata": {},
   "outputs": [
    {
     "name": "stdout",
     "output_type": "stream",
     "text": [
      "Skewness: 1.257472\n",
      "Kurtosis: 1.047748\n"
     ]
    },
    {
     "data": {
      "image/png": "[encoded data removed]",
      "text/plain": [
       "<Figure size 432x288 with 1 Axes>"
      ]
     },
     "metadata": {
      "needs_background": "light"
     },
     "output_type": "display_data"
    }
   ],
   "source": [
    "sns.distplot(df['cigsPerDay']);\n",
    "\n",
    "print(\"Skewness: %f\" % df['cigsPerDay'].skew())\n",
    "print(\"Kurtosis: %f\" % df['cigsPerDay'].kurt())\n",
    "#cigsPerDay Data is normaly Distributed skewness and kurtosis are also in the normality range."
   ]
  },
  {
   "cell_type": "code",
   "execution_count": 40,
   "id": "10fed425",
   "metadata": {},
   "outputs": [
    {
     "data": {
      "text/plain": [
       "<AxesSubplot:xlabel='cigsPerDay'>"
      ]
     },
     "execution_count": 40,
     "metadata": {},
     "output_type": "execute_result"
    },
    {
     "data": {
      "image/png": "[encoded data removed]",
      "text/plain": [
       "<Figure size 432x288 with 1 Axes>"
      ]
     },
     "metadata": {
      "needs_background": "light"
     },
     "output_type": "display_data"
    }
   ],
   "source": [
    "sns.boxplot(df.cigsPerDay)"
   ]
  },
  {
   "cell_type": "code",
   "execution_count": 41,
   "id": "86a02d33",
   "metadata": {},
   "outputs": [
    {
     "name": "stdout",
     "output_type": "stream",
     "text": [
      "20.0\n"
     ]
    }
   ],
   "source": [
    "IQR=df.cigsPerDay.quantile(0.75)-df.cigsPerDay.quantile(0.25)\n",
    "print(IQR)"
   ]
  },
  {
   "cell_type": "code",
   "execution_count": 42,
   "id": "f63dc7ba",
   "metadata": {},
   "outputs": [
    {
     "name": "stdout",
     "output_type": "stream",
     "text": [
      "50.0\n"
     ]
    }
   ],
   "source": [
    "upper_bridge=df['cigsPerDay'].quantile(0.75)+IQR*1.5\n",
    "print(upper_bridge)"
   ]
  },
  {
   "cell_type": "code",
   "execution_count": 43,
   "id": "55b7d2a8",
   "metadata": {},
   "outputs": [],
   "source": [
    "df.loc[df['cigsPerDay']>=50.0,'cigsPerDay']=50.0"
   ]
  },
  {
   "cell_type": "code",
   "execution_count": 44,
   "id": "e4eabe6d",
   "metadata": {},
   "outputs": [
    {
     "data": {
      "text/plain": [
       "<AxesSubplot:xlabel='cigsPerDay'>"
      ]
     },
     "execution_count": 44,
     "metadata": {},
     "output_type": "execute_result"
    },
    {
     "data": {
      "image/png": "[encoded data removed]",
      "text/plain": [
       "<Figure size 432x288 with 1 Axes>"
      ]
     },
     "metadata": {
      "needs_background": "light"
     },
     "output_type": "display_data"
    }
   ],
   "source": [
    "sns.boxplot(df.cigsPerDay)"
   ]
  },
  {
   "cell_type": "code",
   "execution_count": 45,
   "id": "ba1f41fb",
   "metadata": {},
   "outputs": [
    {
     "name": "stdout",
     "output_type": "stream",
     "text": [
      "                df      sum_sq   mean_sq          F    PR(>F)\n",
      "cigsPerDay     1.0    1.930338  1.930338  15.025334  0.000108\n",
      "Residual    4236.0  544.208406  0.128472        NaN       NaN\n"
     ]
    }
   ],
   "source": [
    "#Hypothesis Testing\n",
    "import statsmodels.api as sm\n",
    "from statsmodels.formula.api import ols\n",
    "mod = ols('TenYearCHD ~ cigsPerDay', data = df).fit()\n",
    "aov_table = sm.stats.anova_lm(mod, type = 2)\n",
    "print(aov_table)\n",
    "#0.000108 ie p_value is <0.05; Ho Reject; Good Predictor"
   ]
  },
  {
   "cell_type": "markdown",
   "id": "483652e0",
   "metadata": {},
   "source": [
    "# BPMeds-State if patient on Blood pressure medication"
   ]
  },
  {
   "cell_type": "code",
   "execution_count": 46,
   "id": "b3c749b0",
   "metadata": {},
   "outputs": [
    {
     "data": {
      "text/plain": [
       "count    4185.000000\n",
       "mean        0.029630\n",
       "std         0.169584\n",
       "min         0.000000\n",
       "25%         0.000000\n",
       "50%         0.000000\n",
       "75%         0.000000\n",
       "max         1.000000\n",
       "Name: BPMeds, dtype: float64"
      ]
     },
     "execution_count": 46,
     "metadata": {},
     "output_type": "execute_result"
    }
   ],
   "source": [
    "df.BPMeds.describe()"
   ]
  },
  {
   "cell_type": "code",
   "execution_count": 47,
   "id": "f71877fb",
   "metadata": {},
   "outputs": [
    {
     "data": {
      "text/plain": [
       "53"
      ]
     },
     "execution_count": 47,
     "metadata": {},
     "output_type": "execute_result"
    }
   ],
   "source": [
    "df.BPMeds.isnull().sum()"
   ]
  },
  {
   "cell_type": "code",
   "execution_count": 48,
   "id": "8b28156c",
   "metadata": {},
   "outputs": [],
   "source": [
    "df.BPMeds.fillna(df.BPMeds.mode()[0],inplace=True)"
   ]
  },
  {
   "cell_type": "code",
   "execution_count": 49,
   "id": "b9c5c4cf",
   "metadata": {},
   "outputs": [
    {
     "data": {
      "text/plain": [
       "0"
      ]
     },
     "execution_count": 49,
     "metadata": {},
     "output_type": "execute_result"
    }
   ],
   "source": [
    "df.BPMeds.isnull().sum()"
   ]
  },
  {
   "cell_type": "code",
   "execution_count": 50,
   "id": "d561a2ad",
   "metadata": {},
   "outputs": [
    {
     "data": {
      "text/plain": [
       "Text(0.5, 1.0, 'BPMeds - count')"
      ]
     },
     "execution_count": 50,
     "metadata": {},
     "output_type": "execute_result"
    },
    {
     "data": {
      "image/png": "[encoded data removed]",
      "text/plain": [
       "<Figure size 432x288 with 1 Axes>"
      ]
     },
     "metadata": {
      "needs_background": "light"
     },
     "output_type": "display_data"
    }
   ],
   "source": [
    "sns.countplot(x = 'BPMeds', data = df)\n",
    "plt.title('BPMeds - count')"
   ]
  },
  {
   "cell_type": "code",
   "execution_count": 51,
   "id": "448fff2a",
   "metadata": {},
   "outputs": [
    {
     "data": {
      "text/html": [
       "<div>\n",
       "<style scoped>\n",
       "    .dataframe tbody tr th:only-of-type {\n",
       "        vertical-align: middle;\n",
       "    }\n",
       "\n",
       "    .dataframe tbody tr th {\n",
       "        vertical-align: top;\n",
       "    }\n",
       "\n",
       "    .dataframe thead th {\n",
       "        text-align: right;\n",
       "    }\n",
       "</style>\n",
       "<table border=\"1\" class=\"dataframe\">\n",
       "  <thead>\n",
       "    <tr style=\"text-align: right;\">\n",
       "      <th>TenYearCHD</th>\n",
       "      <th>0</th>\n",
       "      <th>1</th>\n",
       "    </tr>\n",
       "    <tr>\n",
       "      <th>BPMeds</th>\n",
       "      <th></th>\n",
       "      <th></th>\n",
       "    </tr>\n",
       "  </thead>\n",
       "  <tbody>\n",
       "    <tr>\n",
       "      <th>0.0</th>\n",
       "      <td>3511</td>\n",
       "      <td>603</td>\n",
       "    </tr>\n",
       "    <tr>\n",
       "      <th>1.0</th>\n",
       "      <td>83</td>\n",
       "      <td>41</td>\n",
       "    </tr>\n",
       "  </tbody>\n",
       "</table>\n",
       "</div>"
      ],
      "text/plain": [
       "TenYearCHD     0    1\n",
       "BPMeds               \n",
       "0.0         3511  603\n",
       "1.0           83   41"
      ]
     },
     "execution_count": 51,
     "metadata": {},
     "output_type": "execute_result"
    }
   ],
   "source": [
    "ct_BPMeds = pd.crosstab(df.BPMeds, df.TenYearCHD)\n",
    "ct_BPMeds"
   ]
  },
  {
   "cell_type": "code",
   "execution_count": 52,
   "id": "aa387c62",
   "metadata": {},
   "outputs": [
    {
     "data": {
      "text/plain": [
       "(31.649053344312318,\n",
       " 1.8470461189725918e-08,\n",
       " 1,\n",
       " array([[3488.8428504,  625.1571496],\n",
       "        [ 105.1571496,   18.8428504]]))"
      ]
     },
     "execution_count": 52,
     "metadata": {},
     "output_type": "execute_result"
    }
   ],
   "source": [
    "chi2_contingency(ct_BPMeds, correction = False)"
   ]
  },
  {
   "cell_type": "code",
   "execution_count": 53,
   "id": "f5666353",
   "metadata": {},
   "outputs": [
    {
     "data": {
      "text/plain": [
       "Text(0.5, 1.0, 'BPMeds VS  TenYearCHD')"
      ]
     },
     "execution_count": 53,
     "metadata": {},
     "output_type": "execute_result"
    },
    {
     "data": {
      "image/png": "[encoded data removed]",
      "text/plain": [
       "<Figure size 432x288 with 1 Axes>"
      ]
     },
     "metadata": {
      "needs_background": "light"
     },
     "output_type": "display_data"
    }
   ],
   "source": [
    "sns.countplot(df.BPMeds, hue = df.TenYearCHD, palette = 'bright')\n",
    "plt.title('BPMeds VS  TenYearCHD')"
   ]
  },
  {
   "cell_type": "code",
   "execution_count": 54,
   "id": "aec1bb01",
   "metadata": {},
   "outputs": [
    {
     "data": {
      "image/png": "[encoded data removed]",
      "text/plain": [
       "<Figure size 720x432 with 1 Axes>"
      ]
     },
     "metadata": {
      "needs_background": "light"
     },
     "output_type": "display_data"
    }
   ],
   "source": [
    "ct_BPMeds.plot(kind='bar', \n",
    "                    stacked=True, \n",
    "                    colormap='tab10', \n",
    "                    figsize=(10, 6))\n",
    "\n",
    "plt.legend(loc=\"upper left\", ncol=2)\n",
    "plt.xlabel(\"BPMeds\")\n",
    "plt.ylabel(\"Proportion\")\n",
    "plt.show()\n",
    "#good predictor"
   ]
  },
  {
   "cell_type": "markdown",
   "id": "fa77f11e",
   "metadata": {},
   "source": [
    "# prevalentStroke-Status of patient stroke history"
   ]
  },
  {
   "cell_type": "code",
   "execution_count": 55,
   "id": "9f753ce4",
   "metadata": {},
   "outputs": [
    {
     "data": {
      "text/plain": [
       "count    4238.000000\n",
       "mean        0.005899\n",
       "std         0.076587\n",
       "min         0.000000\n",
       "25%         0.000000\n",
       "50%         0.000000\n",
       "75%         0.000000\n",
       "max         1.000000\n",
       "Name: prevalentStroke, dtype: float64"
      ]
     },
     "execution_count": 55,
     "metadata": {},
     "output_type": "execute_result"
    }
   ],
   "source": [
    "df.prevalentStroke.describe()"
   ]
  },
  {
   "cell_type": "code",
   "execution_count": 56,
   "id": "1950f726",
   "metadata": {},
   "outputs": [
    {
     "data": {
      "text/plain": [
       "0"
      ]
     },
     "execution_count": 56,
     "metadata": {},
     "output_type": "execute_result"
    }
   ],
   "source": [
    "df.prevalentStroke.isnull().sum()"
   ]
  },
  {
   "cell_type": "code",
   "execution_count": 57,
   "id": "e9572d26",
   "metadata": {},
   "outputs": [
    {
     "data": {
      "text/plain": [
       "Text(0.5, 1.0, 'prevalentStroke - count')"
      ]
     },
     "execution_count": 57,
     "metadata": {},
     "output_type": "execute_result"
    },
    {
     "data": {
      "image/png": "[encoded data removed]",
      "text/plain": [
       "<Figure size 432x288 with 1 Axes>"
      ]
     },
     "metadata": {
      "needs_background": "light"
     },
     "output_type": "display_data"
    }
   ],
   "source": [
    "sns.countplot(x = 'prevalentStroke', data = df)\n",
    "plt.title('prevalentStroke - count')"
   ]
  },
  {
   "cell_type": "code",
   "execution_count": 58,
   "id": "359d93f8",
   "metadata": {},
   "outputs": [
    {
     "data": {
      "text/html": [
       "<div>\n",
       "<style scoped>\n",
       "    .dataframe tbody tr th:only-of-type {\n",
       "        vertical-align: middle;\n",
       "    }\n",
       "\n",
       "    .dataframe tbody tr th {\n",
       "        vertical-align: top;\n",
       "    }\n",
       "\n",
       "    .dataframe thead th {\n",
       "        text-align: right;\n",
       "    }\n",
       "</style>\n",
       "<table border=\"1\" class=\"dataframe\">\n",
       "  <thead>\n",
       "    <tr style=\"text-align: right;\">\n",
       "      <th>TenYearCHD</th>\n",
       "      <th>0</th>\n",
       "      <th>1</th>\n",
       "    </tr>\n",
       "    <tr>\n",
       "      <th>prevalentStroke</th>\n",
       "      <th></th>\n",
       "      <th></th>\n",
       "    </tr>\n",
       "  </thead>\n",
       "  <tbody>\n",
       "    <tr>\n",
       "      <th>0</th>\n",
       "      <td>3580</td>\n",
       "      <td>633</td>\n",
       "    </tr>\n",
       "    <tr>\n",
       "      <th>1</th>\n",
       "      <td>14</td>\n",
       "      <td>11</td>\n",
       "    </tr>\n",
       "  </tbody>\n",
       "</table>\n",
       "</div>"
      ],
      "text/plain": [
       "TenYearCHD          0    1\n",
       "prevalentStroke           \n",
       "0                3580  633\n",
       "1                  14   11"
      ]
     },
     "execution_count": 58,
     "metadata": {},
     "output_type": "execute_result"
    }
   ],
   "source": [
    "ct_prevalentStroke = pd.crosstab(df.prevalentStroke, df.TenYearCHD)\n",
    "ct_prevalentStroke"
   ]
  },
  {
   "cell_type": "code",
   "execution_count": 59,
   "id": "09f6b2b4",
   "metadata": {},
   "outputs": [
    {
     "data": {
      "text/plain": [
       "(16.191149461946694,\n",
       " 5.726102177501766e-05,\n",
       " 1,\n",
       " array([[3572.79896177,  640.20103823],\n",
       "        [  21.20103823,    3.79896177]]))"
      ]
     },
     "execution_count": 59,
     "metadata": {},
     "output_type": "execute_result"
    }
   ],
   "source": [
    "chi2_contingency(ct_prevalentStroke, correction = False)"
   ]
  },
  {
   "cell_type": "code",
   "execution_count": 60,
   "id": "2aa448c4",
   "metadata": {},
   "outputs": [
    {
     "data": {
      "text/plain": [
       "Text(0.5, 1.0, 'prevalentStroke VS  TenYearCHD')"
      ]
     },
     "execution_count": 60,
     "metadata": {},
     "output_type": "execute_result"
    },
    {
     "data": {
      "image/png": "[encoded data removed]",
      "text/plain": [
       "<Figure size 432x288 with 1 Axes>"
      ]
     },
     "metadata": {
      "needs_background": "light"
     },
     "output_type": "display_data"
    }
   ],
   "source": [
    "sns.countplot(df.prevalentStroke, hue = df.TenYearCHD, palette = 'bright')\n",
    "plt.title('prevalentStroke VS  TenYearCHD')"
   ]
  },
  {
   "cell_type": "code",
   "execution_count": 61,
   "id": "25eaac13",
   "metadata": {},
   "outputs": [
    {
     "data": {
      "image/png": "[encoded data removed]",
      "text/plain": [
       "<Figure size 720x432 with 1 Axes>"
      ]
     },
     "metadata": {
      "needs_background": "light"
     },
     "output_type": "display_data"
    }
   ],
   "source": [
    "ct_prevalentStroke.plot(kind='bar', \n",
    "                    stacked=True, \n",
    "                    colormap='tab10', \n",
    "                    figsize=(10, 6))\n",
    "\n",
    "plt.legend(loc=\"upper left\", ncol=2)\n",
    "plt.xlabel(\"prevalentStroke\")\n",
    "plt.ylabel(\"Proportion\")\n",
    "plt.show()\n",
    "#good predictor"
   ]
  },
  {
   "cell_type": "markdown",
   "id": "e60aa845",
   "metadata": {},
   "source": [
    "# prevalentHyp-Status of patient hypertension history"
   ]
  },
  {
   "cell_type": "code",
   "execution_count": 62,
   "id": "d01667f6",
   "metadata": {},
   "outputs": [
    {
     "data": {
      "text/plain": [
       "count    4238.000000\n",
       "mean        0.310524\n",
       "std         0.462763\n",
       "min         0.000000\n",
       "25%         0.000000\n",
       "50%         0.000000\n",
       "75%         1.000000\n",
       "max         1.000000\n",
       "Name: prevalentHyp, dtype: float64"
      ]
     },
     "execution_count": 62,
     "metadata": {},
     "output_type": "execute_result"
    }
   ],
   "source": [
    "df.prevalentHyp.describe()"
   ]
  },
  {
   "cell_type": "code",
   "execution_count": 63,
   "id": "ef64e914",
   "metadata": {},
   "outputs": [
    {
     "data": {
      "text/plain": [
       "0"
      ]
     },
     "execution_count": 63,
     "metadata": {},
     "output_type": "execute_result"
    }
   ],
   "source": [
    "df.prevalentHyp.isnull().sum()"
   ]
  },
  {
   "cell_type": "code",
   "execution_count": 64,
   "id": "e1255ca5",
   "metadata": {},
   "outputs": [
    {
     "data": {
      "text/plain": [
       "Text(0.5, 1.0, 'prevalentHyp - count')"
      ]
     },
     "execution_count": 64,
     "metadata": {},
     "output_type": "execute_result"
    },
    {
     "data": {
      "image/png": "[encoded data removed]",
      "text/plain": [
       "<Figure size 432x288 with 1 Axes>"
      ]
     },
     "metadata": {
      "needs_background": "light"
     },
     "output_type": "display_data"
    }
   ],
   "source": [
    "sns.countplot(x = 'prevalentHyp', data = df)\n",
    "plt.title('prevalentHyp - count')"
   ]
  },
  {
   "cell_type": "code",
   "execution_count": 65,
   "id": "eb2029c1",
   "metadata": {},
   "outputs": [
    {
     "data": {
      "text/html": [
       "<div>\n",
       "<style scoped>\n",
       "    .dataframe tbody tr th:only-of-type {\n",
       "        vertical-align: middle;\n",
       "    }\n",
       "\n",
       "    .dataframe tbody tr th {\n",
       "        vertical-align: top;\n",
       "    }\n",
       "\n",
       "    .dataframe thead th {\n",
       "        text-align: right;\n",
       "    }\n",
       "</style>\n",
       "<table border=\"1\" class=\"dataframe\">\n",
       "  <thead>\n",
       "    <tr style=\"text-align: right;\">\n",
       "      <th>TenYearCHD</th>\n",
       "      <th>0</th>\n",
       "      <th>1</th>\n",
       "    </tr>\n",
       "    <tr>\n",
       "      <th>prevalentHyp</th>\n",
       "      <th></th>\n",
       "      <th></th>\n",
       "    </tr>\n",
       "  </thead>\n",
       "  <tbody>\n",
       "    <tr>\n",
       "      <th>0</th>\n",
       "      <td>2603</td>\n",
       "      <td>319</td>\n",
       "    </tr>\n",
       "    <tr>\n",
       "      <th>1</th>\n",
       "      <td>991</td>\n",
       "      <td>325</td>\n",
       "    </tr>\n",
       "  </tbody>\n",
       "</table>\n",
       "</div>"
      ],
      "text/plain": [
       "TenYearCHD       0    1\n",
       "prevalentHyp           \n",
       "0             2603  319\n",
       "1              991  325"
      ]
     },
     "execution_count": 65,
     "metadata": {},
     "output_type": "execute_result"
    }
   ],
   "source": [
    "ct_prevalentHyp = pd.crosstab(df.prevalentHyp, df.TenYearCHD)\n",
    "ct_prevalentHyp"
   ]
  },
  {
   "cell_type": "code",
   "execution_count": 66,
   "id": "3ea3a778",
   "metadata": {},
   "outputs": [
    {
     "data": {
      "text/plain": [
       "(133.6780899180762,\n",
       " 6.425269735903649e-31,\n",
       " 1,\n",
       " array([[2477.97734781,  444.02265219],\n",
       "        [1116.02265219,  199.97734781]]))"
      ]
     },
     "execution_count": 66,
     "metadata": {},
     "output_type": "execute_result"
    }
   ],
   "source": [
    "chi2_contingency(ct_prevalentHyp, correction = False)"
   ]
  },
  {
   "cell_type": "code",
   "execution_count": 67,
   "id": "b0a6caf5",
   "metadata": {},
   "outputs": [
    {
     "data": {
      "text/plain": [
       "Text(0.5, 1.0, 'prevalentHyp VS  TenYearCHD')"
      ]
     },
     "execution_count": 67,
     "metadata": {},
     "output_type": "execute_result"
    },
    {
     "data": {
      "image/png": "[encoded data removed]",
      "text/plain": [
       "<Figure size 432x288 with 1 Axes>"
      ]
     },
     "metadata": {
      "needs_background": "light"
     },
     "output_type": "display_data"
    }
   ],
   "source": [
    "sns.countplot(df.prevalentHyp, hue = df.TenYearCHD, palette = 'bright')\n",
    "plt.title('prevalentHyp VS  TenYearCHD')"
   ]
  },
  {
   "cell_type": "code",
   "execution_count": 68,
   "id": "069370d7",
   "metadata": {},
   "outputs": [
    {
     "data": {
      "image/png": "[encoded data removed]",
      "text/plain": [
       "<Figure size 720x432 with 1 Axes>"
      ]
     },
     "metadata": {
      "needs_background": "light"
     },
     "output_type": "display_data"
    }
   ],
   "source": [
    "ct_prevalentHyp.plot(kind='bar', \n",
    "                    stacked=True, \n",
    "                    colormap='tab10', \n",
    "                    figsize=(10, 6))\n",
    "\n",
    "plt.legend(loc=\"upper left\", ncol=2)\n",
    "plt.xlabel(\"prevalentHyp\")\n",
    "plt.ylabel(\"Proportion\")\n",
    "plt.show()\n",
    "#good predictor"
   ]
  },
  {
   "cell_type": "markdown",
   "id": "0db77e3b",
   "metadata": {},
   "source": [
    "# diabetes-Status of patient diabetes history"
   ]
  },
  {
   "cell_type": "code",
   "execution_count": 69,
   "id": "71c00649",
   "metadata": {},
   "outputs": [
    {
     "data": {
      "text/plain": [
       "count    4238.000000\n",
       "mean        0.025720\n",
       "std         0.158316\n",
       "min         0.000000\n",
       "25%         0.000000\n",
       "50%         0.000000\n",
       "75%         0.000000\n",
       "max         1.000000\n",
       "Name: diabetes, dtype: float64"
      ]
     },
     "execution_count": 69,
     "metadata": {},
     "output_type": "execute_result"
    }
   ],
   "source": [
    "df.diabetes.describe()"
   ]
  },
  {
   "cell_type": "code",
   "execution_count": 70,
   "id": "5e7ad51d",
   "metadata": {},
   "outputs": [
    {
     "data": {
      "text/plain": [
       "0"
      ]
     },
     "execution_count": 70,
     "metadata": {},
     "output_type": "execute_result"
    }
   ],
   "source": [
    "df.diabetes.isnull().sum()"
   ]
  },
  {
   "cell_type": "code",
   "execution_count": 71,
   "id": "e05f83a4",
   "metadata": {},
   "outputs": [
    {
     "data": {
      "text/plain": [
       "Text(0.5, 1.0, 'diabetes - count')"
      ]
     },
     "execution_count": 71,
     "metadata": {},
     "output_type": "execute_result"
    },
    {
     "data": {
      "image/png": "[encoded data removed]",
      "text/plain": [
       "<Figure size 432x288 with 1 Axes>"
      ]
     },
     "metadata": {
      "needs_background": "light"
     },
     "output_type": "display_data"
    }
   ],
   "source": [
    "sns.countplot(x = 'diabetes', data = df)\n",
    "plt.title('diabetes - count')"
   ]
  },
  {
   "cell_type": "code",
   "execution_count": 72,
   "id": "58d95aa5",
   "metadata": {},
   "outputs": [
    {
     "data": {
      "text/html": [
       "<div>\n",
       "<style scoped>\n",
       "    .dataframe tbody tr th:only-of-type {\n",
       "        vertical-align: middle;\n",
       "    }\n",
       "\n",
       "    .dataframe tbody tr th {\n",
       "        vertical-align: top;\n",
       "    }\n",
       "\n",
       "    .dataframe thead th {\n",
       "        text-align: right;\n",
       "    }\n",
       "</style>\n",
       "<table border=\"1\" class=\"dataframe\">\n",
       "  <thead>\n",
       "    <tr style=\"text-align: right;\">\n",
       "      <th>TenYearCHD</th>\n",
       "      <th>0</th>\n",
       "      <th>1</th>\n",
       "    </tr>\n",
       "    <tr>\n",
       "      <th>diabetes</th>\n",
       "      <th></th>\n",
       "      <th></th>\n",
       "    </tr>\n",
       "  </thead>\n",
       "  <tbody>\n",
       "    <tr>\n",
       "      <th>0</th>\n",
       "      <td>3525</td>\n",
       "      <td>604</td>\n",
       "    </tr>\n",
       "    <tr>\n",
       "      <th>1</th>\n",
       "      <td>69</td>\n",
       "      <td>40</td>\n",
       "    </tr>\n",
       "  </tbody>\n",
       "</table>\n",
       "</div>"
      ],
      "text/plain": [
       "TenYearCHD     0    1\n",
       "diabetes             \n",
       "0           3525  604\n",
       "1             69   40"
      ]
     },
     "execution_count": 72,
     "metadata": {},
     "output_type": "execute_result"
    }
   ],
   "source": [
    "ct_diabetes = pd.crosstab(df.diabetes, df.TenYearCHD)\n",
    "ct_diabetes"
   ]
  },
  {
   "cell_type": "code",
   "execution_count": 73,
   "id": "aff37545",
   "metadata": {},
   "outputs": [
    {
     "data": {
      "text/plain": [
       "(40.135995000258504,\n",
       " 2.368836764784068e-10,\n",
       " 1,\n",
       " array([[3501.56347334,  627.43652666],\n",
       "        [  92.43652666,   16.56347334]]))"
      ]
     },
     "execution_count": 73,
     "metadata": {},
     "output_type": "execute_result"
    }
   ],
   "source": [
    "chi2_contingency(ct_diabetes, correction = False)"
   ]
  },
  {
   "cell_type": "code",
   "execution_count": 74,
   "id": "2a6a4c05",
   "metadata": {},
   "outputs": [
    {
     "data": {
      "text/plain": [
       "Text(0.5, 1.0, 'diabetes VS  TenYearCHD')"
      ]
     },
     "execution_count": 74,
     "metadata": {},
     "output_type": "execute_result"
    },
    {
     "data": {
      "image/png": "[encoded data removed]",
      "text/plain": [
       "<Figure size 432x288 with 1 Axes>"
      ]
     },
     "metadata": {
      "needs_background": "light"
     },
     "output_type": "display_data"
    }
   ],
   "source": [
    "sns.countplot(df.diabetes, hue = df.TenYearCHD, palette = 'bright')\n",
    "plt.title('diabetes VS  TenYearCHD')"
   ]
  },
  {
   "cell_type": "code",
   "execution_count": 75,
   "id": "493756f5",
   "metadata": {},
   "outputs": [
    {
     "data": {
      "image/png": "[encoded data removed]",
      "text/plain": [
       "<Figure size 720x432 with 1 Axes>"
      ]
     },
     "metadata": {
      "needs_background": "light"
     },
     "output_type": "display_data"
    }
   ],
   "source": [
    "ct_diabetes.plot(kind='bar', \n",
    "                    stacked=True, \n",
    "                    colormap='tab10', \n",
    "                    figsize=(10, 6))\n",
    "\n",
    "plt.legend(loc=\"upper left\", ncol=2)\n",
    "plt.xlabel(\"diabetes\")\n",
    "plt.ylabel(\"Proportion\")\n",
    "plt.show()\n",
    "#good predictor"
   ]
  },
  {
   "cell_type": "markdown",
   "id": "b9d8de5a",
   "metadata": {},
   "source": [
    "# totChol"
   ]
  },
  {
   "cell_type": "code",
   "execution_count": 76,
   "id": "2cc4afe8",
   "metadata": {},
   "outputs": [
    {
     "data": {
      "text/plain": [
       "count    4188.000000\n",
       "mean      236.721585\n",
       "std        44.590334\n",
       "min       107.000000\n",
       "25%       206.000000\n",
       "50%       234.000000\n",
       "75%       263.000000\n",
       "max       696.000000\n",
       "Name: totChol, dtype: float64"
      ]
     },
     "execution_count": 76,
     "metadata": {},
     "output_type": "execute_result"
    }
   ],
   "source": [
    "df.totChol.describe()"
   ]
  },
  {
   "cell_type": "code",
   "execution_count": 77,
   "id": "0fdd2f14",
   "metadata": {},
   "outputs": [
    {
     "data": {
      "text/plain": [
       "50"
      ]
     },
     "execution_count": 77,
     "metadata": {},
     "output_type": "execute_result"
    }
   ],
   "source": [
    "df.totChol.isnull().sum()"
   ]
  },
  {
   "cell_type": "code",
   "execution_count": 78,
   "id": "2b8e2526",
   "metadata": {},
   "outputs": [],
   "source": [
    "df.totChol.fillna(df.totChol.median(),inplace=True)"
   ]
  },
  {
   "cell_type": "code",
   "execution_count": 79,
   "id": "cace85dc",
   "metadata": {},
   "outputs": [
    {
     "data": {
      "text/plain": [
       "0"
      ]
     },
     "execution_count": 79,
     "metadata": {},
     "output_type": "execute_result"
    }
   ],
   "source": [
    "df.totChol.isnull().sum()"
   ]
  },
  {
   "cell_type": "code",
   "execution_count": 80,
   "id": "54c33019",
   "metadata": {},
   "outputs": [
    {
     "name": "stdout",
     "output_type": "stream",
     "text": [
      "Skewness: 0.878718\n",
      "Kurtosis: 4.218585\n"
     ]
    },
    {
     "data": {
      "image/png": "[encoded data removed]",
      "text/plain": [
       "<Figure size 432x288 with 1 Axes>"
      ]
     },
     "metadata": {
      "needs_background": "light"
     },
     "output_type": "display_data"
    }
   ],
   "source": [
    "sns.distplot(df['totChol']);\n",
    "\n",
    "print(\"Skewness: %f\" % df['totChol'].skew())\n",
    "print(\"Kurtosis: %f\" % df['totChol'].kurt())\n",
    "#totChol Data is not normaly Distributed  kurtosis value not in the normality range."
   ]
  },
  {
   "cell_type": "code",
   "execution_count": 81,
   "id": "a2194145",
   "metadata": {},
   "outputs": [],
   "source": [
    "df['totChol_log']=np.log(df['totChol'])"
   ]
  },
  {
   "cell_type": "code",
   "execution_count": 82,
   "id": "50d36a83",
   "metadata": {},
   "outputs": [
    {
     "name": "stdout",
     "output_type": "stream",
     "text": [
      "Skewness: 0.007629\n",
      "Kurtosis: 0.505446\n"
     ]
    },
    {
     "data": {
      "image/png": "[encoded data removed]",
      "text/plain": [
       "<Figure size 432x288 with 1 Axes>"
      ]
     },
     "metadata": {
      "needs_background": "light"
     },
     "output_type": "display_data"
    }
   ],
   "source": [
    "sns.distplot(df['totChol_log']);\n",
    "\n",
    "print(\"Skewness: %f\" % df['totChol_log'].skew())\n",
    "print(\"Kurtosis: %f\" % df['totChol_log'].kurt())\n",
    "#totChol_log Data is normaly Distributed skewness and kurtosis are also in the normality range."
   ]
  },
  {
   "cell_type": "code",
   "execution_count": 83,
   "id": "1b6f2aa8",
   "metadata": {},
   "outputs": [],
   "source": [
    "df.drop('totChol',axis=1,inplace=True)"
   ]
  },
  {
   "cell_type": "code",
   "execution_count": 84,
   "id": "5dfe219c",
   "metadata": {},
   "outputs": [
    {
     "name": "stdout",
     "output_type": "stream",
     "text": [
      "<class 'pandas.core.frame.DataFrame'>\n",
      "RangeIndex: 4238 entries, 0 to 4237\n",
      "Data columns (total 16 columns):\n",
      " #   Column           Non-Null Count  Dtype  \n",
      "---  ------           --------------  -----  \n",
      " 0   Gender           4238 non-null   int64  \n",
      " 1   age              4238 non-null   int64  \n",
      " 2   education        4238 non-null   float64\n",
      " 3   currentSmoker    4238 non-null   int64  \n",
      " 4   cigsPerDay       4238 non-null   float64\n",
      " 5   BPMeds           4238 non-null   float64\n",
      " 6   prevalentStroke  4238 non-null   int64  \n",
      " 7   prevalentHyp     4238 non-null   int64  \n",
      " 8   diabetes         4238 non-null   int64  \n",
      " 9   sysBP            4238 non-null   float64\n",
      " 10  diaBP            4238 non-null   float64\n",
      " 11  BMI              4219 non-null   float64\n",
      " 12  heartRate        4237 non-null   float64\n",
      " 13  glucose          3850 non-null   float64\n",
      " 14  TenYearCHD       4238 non-null   int64  \n",
      " 15  totChol_log      4238 non-null   float64\n",
      "dtypes: float64(9), int64(7)\n",
      "memory usage: 529.9 KB\n"
     ]
    }
   ],
   "source": [
    "df.info()"
   ]
  },
  {
   "cell_type": "code",
   "execution_count": 85,
   "id": "fd088093",
   "metadata": {},
   "outputs": [
    {
     "data": {
      "text/plain": [
       "<AxesSubplot:xlabel='totChol_log'>"
      ]
     },
     "execution_count": 85,
     "metadata": {},
     "output_type": "execute_result"
    },
    {
     "data": {
      "image/png": "[encoded data removed]",
      "text/plain": [
       "<Figure size 432x288 with 1 Axes>"
      ]
     },
     "metadata": {
      "needs_background": "light"
     },
     "output_type": "display_data"
    }
   ],
   "source": [
    "sns.boxplot(df.totChol_log)"
   ]
  },
  {
   "cell_type": "code",
   "execution_count": 86,
   "id": "386541a8",
   "metadata": {},
   "outputs": [
    {
     "data": {
      "text/plain": [
       "0.24046833497151532"
      ]
     },
     "execution_count": 86,
     "metadata": {},
     "output_type": "execute_result"
    }
   ],
   "source": [
    "IQR=df.totChol_log.quantile(0.75)-df.totChol_log.quantile(0.25)\n",
    "IQR"
   ]
  },
  {
   "cell_type": "code",
   "execution_count": 87,
   "id": "892b8234",
   "metadata": {},
   "outputs": [
    {
     "data": {
      "text/plain": [
       "5.9290470062183696"
      ]
     },
     "execution_count": 87,
     "metadata": {},
     "output_type": "execute_result"
    }
   ],
   "source": [
    "UL=df.totChol_log.quantile(0.75)+IQR*1.5\n",
    "UL"
   ]
  },
  {
   "cell_type": "code",
   "execution_count": 88,
   "id": "95027231",
   "metadata": {},
   "outputs": [
    {
     "data": {
      "text/plain": [
       "4.967173666332308"
      ]
     },
     "execution_count": 88,
     "metadata": {},
     "output_type": "execute_result"
    }
   ],
   "source": [
    "LL=df.totChol_log.quantile(0.25)-IQR*1.5\n",
    "LL"
   ]
  },
  {
   "cell_type": "code",
   "execution_count": 89,
   "id": "8230eeb9",
   "metadata": {},
   "outputs": [],
   "source": [
    "df.loc[df['totChol_log']>=5.9290470062183696,'totChol_log']=5.9290470062183696"
   ]
  },
  {
   "cell_type": "code",
   "execution_count": 90,
   "id": "bb909f2b",
   "metadata": {},
   "outputs": [],
   "source": [
    "df.loc[df['totChol_log']<=4.967173666332308,'totChol_log']=4.967173666332308"
   ]
  },
  {
   "cell_type": "code",
   "execution_count": 91,
   "id": "e91d4a64",
   "metadata": {},
   "outputs": [
    {
     "data": {
      "text/plain": [
       "<AxesSubplot:xlabel='totChol_log'>"
      ]
     },
     "execution_count": 91,
     "metadata": {},
     "output_type": "execute_result"
    },
    {
     "data": {
      "image/png": "[encoded data removed]",
      "text/plain": [
       "<Figure size 432x288 with 1 Axes>"
      ]
     },
     "metadata": {
      "needs_background": "light"
     },
     "output_type": "display_data"
    }
   ],
   "source": [
    "sns.boxplot(df.totChol_log)"
   ]
  },
  {
   "cell_type": "code",
   "execution_count": 92,
   "id": "9f3ed15e",
   "metadata": {},
   "outputs": [
    {
     "name": "stdout",
     "output_type": "stream",
     "text": [
      "                 df      sum_sq   mean_sq          F        PR(>F)\n",
      "totChol_log     1.0    3.396026  3.396026  26.505315  2.747358e-07\n",
      "Residual     4236.0  542.742719  0.128126        NaN           NaN\n"
     ]
    }
   ],
   "source": [
    "#Hypothesis Testing\n",
    "import statsmodels.api as sm\n",
    "from statsmodels.formula.api import ols\n",
    "mod = ols('TenYearCHD ~ totChol_log', data = df).fit()\n",
    "aov_table = sm.stats.anova_lm(mod, type = 2)\n",
    "print(aov_table)\n",
    "#2.747358e-07 ie p_value is <0.05; Ho Reject; Good Predictor"
   ]
  },
  {
   "cell_type": "markdown",
   "id": "b5006ded",
   "metadata": {},
   "source": [
    "# sysBP"
   ]
  },
  {
   "cell_type": "code",
   "execution_count": 93,
   "id": "84a15c4f",
   "metadata": {},
   "outputs": [
    {
     "data": {
      "text/plain": [
       "count    4238.000000\n",
       "mean      132.352407\n",
       "std        22.038097\n",
       "min        83.500000\n",
       "25%       117.000000\n",
       "50%       128.000000\n",
       "75%       144.000000\n",
       "max       295.000000\n",
       "Name: sysBP, dtype: float64"
      ]
     },
     "execution_count": 93,
     "metadata": {},
     "output_type": "execute_result"
    }
   ],
   "source": [
    "df.sysBP.describe()"
   ]
  },
  {
   "cell_type": "code",
   "execution_count": 94,
   "id": "e110a7a3",
   "metadata": {},
   "outputs": [
    {
     "data": {
      "text/plain": [
       "0"
      ]
     },
     "execution_count": 94,
     "metadata": {},
     "output_type": "execute_result"
    }
   ],
   "source": [
    "df.sysBP.isnull().sum()"
   ]
  },
  {
   "cell_type": "code",
   "execution_count": 95,
   "id": "40eab316",
   "metadata": {},
   "outputs": [
    {
     "name": "stdout",
     "output_type": "stream",
     "text": [
      "Skewness: 1.145362\n",
      "Kurtosis: 2.155019\n"
     ]
    },
    {
     "data": {
      "image/png": "[encoded data removed]",
      "text/plain": [
       "<Figure size 432x288 with 1 Axes>"
      ]
     },
     "metadata": {
      "needs_background": "light"
     },
     "output_type": "display_data"
    }
   ],
   "source": [
    "sns.distplot(df['sysBP']);\n",
    "\n",
    "print(\"Skewness: %f\" % df['sysBP'].skew())\n",
    "print(\"Kurtosis: %f\" % df['sysBP'].kurt())\n",
    "#sysBP Data is normaly Distributed skewness and kurtosis are also in the normality range."
   ]
  },
  {
   "cell_type": "code",
   "execution_count": 96,
   "id": "e6a6c8d3",
   "metadata": {},
   "outputs": [
    {
     "data": {
      "text/plain": [
       "<AxesSubplot:xlabel='sysBP'>"
      ]
     },
     "execution_count": 96,
     "metadata": {},
     "output_type": "execute_result"
    },
    {
     "data": {
      "image/png": "[encoded data removed]",
      "text/plain": [
       "<Figure size 432x288 with 1 Axes>"
      ]
     },
     "metadata": {
      "needs_background": "light"
     },
     "output_type": "display_data"
    }
   ],
   "source": [
    "sns.boxplot(df.sysBP)"
   ]
  },
  {
   "cell_type": "code",
   "execution_count": 97,
   "id": "5cf4d872",
   "metadata": {},
   "outputs": [
    {
     "data": {
      "text/plain": [
       "27.0"
      ]
     },
     "execution_count": 97,
     "metadata": {},
     "output_type": "execute_result"
    }
   ],
   "source": [
    "IQR=df.sysBP.quantile(0.75)-df.sysBP.quantile(0.25)\n",
    "IQR"
   ]
  },
  {
   "cell_type": "code",
   "execution_count": 98,
   "id": "06ac4450",
   "metadata": {},
   "outputs": [
    {
     "data": {
      "text/plain": [
       "184.5"
      ]
     },
     "execution_count": 98,
     "metadata": {},
     "output_type": "execute_result"
    }
   ],
   "source": [
    "UL=df.sysBP.quantile(0.75)+1.5*IQR\n",
    "UL"
   ]
  },
  {
   "cell_type": "code",
   "execution_count": 99,
   "id": "679c4c18",
   "metadata": {},
   "outputs": [],
   "source": [
    "df.loc[df['sysBP']>=184.5,'sysBP']=184.5"
   ]
  },
  {
   "cell_type": "code",
   "execution_count": 100,
   "id": "6ca6181e",
   "metadata": {},
   "outputs": [
    {
     "data": {
      "text/plain": [
       "<AxesSubplot:xlabel='sysBP'>"
      ]
     },
     "execution_count": 100,
     "metadata": {},
     "output_type": "execute_result"
    },
    {
     "data": {
      "image/png": "[encoded data removed]",
      "text/plain": [
       "<Figure size 432x288 with 1 Axes>"
      ]
     },
     "metadata": {
      "needs_background": "light"
     },
     "output_type": "display_data"
    }
   ],
   "source": [
    "sns.boxplot(df.sysBP)"
   ]
  },
  {
   "cell_type": "code",
   "execution_count": 101,
   "id": "c33d4e85",
   "metadata": {},
   "outputs": [
    {
     "name": "stdout",
     "output_type": "stream",
     "text": [
      "              df      sum_sq    mean_sq           F        PR(>F)\n",
      "sysBP        1.0   24.012644  24.012644  194.814161  2.542410e-43\n",
      "Residual  4236.0  522.126101   0.123259         NaN           NaN\n"
     ]
    }
   ],
   "source": [
    "#Hypothesis Testing\n",
    "import statsmodels.api as sm\n",
    "from statsmodels.formula.api import ols\n",
    "mod = ols('TenYearCHD ~ sysBP', data = df).fit()\n",
    "aov_table = sm.stats.anova_lm(mod, type = 2)\n",
    "print(aov_table)\n",
    "#2.542410e-43 ie p_value is <0.05; Ho Reject; Good Predictor"
   ]
  },
  {
   "cell_type": "markdown",
   "id": "8ed08b7f",
   "metadata": {},
   "source": [
    "# diaBP"
   ]
  },
  {
   "cell_type": "code",
   "execution_count": 102,
   "id": "6204c009",
   "metadata": {},
   "outputs": [
    {
     "data": {
      "text/plain": [
       "count    4238.000000\n",
       "mean       82.893464\n",
       "std        11.910850\n",
       "min        48.000000\n",
       "25%        75.000000\n",
       "50%        82.000000\n",
       "75%        89.875000\n",
       "max       142.500000\n",
       "Name: diaBP, dtype: float64"
      ]
     },
     "execution_count": 102,
     "metadata": {},
     "output_type": "execute_result"
    }
   ],
   "source": [
    "df.diaBP.describe()"
   ]
  },
  {
   "cell_type": "code",
   "execution_count": 103,
   "id": "a6ec26b3",
   "metadata": {},
   "outputs": [
    {
     "data": {
      "text/plain": [
       "0"
      ]
     },
     "execution_count": 103,
     "metadata": {},
     "output_type": "execute_result"
    }
   ],
   "source": [
    "df.diaBP.isnull().sum()"
   ]
  },
  {
   "cell_type": "code",
   "execution_count": 104,
   "id": "4de90fe6",
   "metadata": {},
   "outputs": [
    {
     "name": "stdout",
     "output_type": "stream",
     "text": [
      "Skewness: 0.714102\n",
      "Kurtosis: 1.277100\n"
     ]
    },
    {
     "data": {
      "image/png": "[encoded data removed]",
      "text/plain": [
       "<Figure size 432x288 with 1 Axes>"
      ]
     },
     "metadata": {
      "needs_background": "light"
     },
     "output_type": "display_data"
    }
   ],
   "source": [
    "sns.distplot(df['diaBP']);\n",
    "\n",
    "print(\"Skewness: %f\" % df['diaBP'].skew())\n",
    "print(\"Kurtosis: %f\" % df['diaBP'].kurt())\n",
    "#diaBP Data is normaly Distributed skewness and kurtosis are also in the normality range."
   ]
  },
  {
   "cell_type": "code",
   "execution_count": 105,
   "id": "d2efd96b",
   "metadata": {},
   "outputs": [
    {
     "data": {
      "text/plain": [
       "<AxesSubplot:xlabel='diaBP'>"
      ]
     },
     "execution_count": 105,
     "metadata": {},
     "output_type": "execute_result"
    },
    {
     "data": {
      "image/png": "[encoded data removed]",
      "text/plain": [
       "<Figure size 432x288 with 1 Axes>"
      ]
     },
     "metadata": {
      "needs_background": "light"
     },
     "output_type": "display_data"
    }
   ],
   "source": [
    "sns.boxplot(df.diaBP)"
   ]
  },
  {
   "cell_type": "code",
   "execution_count": 106,
   "id": "d31271f3",
   "metadata": {},
   "outputs": [
    {
     "data": {
      "text/plain": [
       "14.875"
      ]
     },
     "execution_count": 106,
     "metadata": {},
     "output_type": "execute_result"
    }
   ],
   "source": [
    "IQR=df.diaBP.quantile(0.75)-df.diaBP.quantile(0.25)\n",
    "IQR"
   ]
  },
  {
   "cell_type": "code",
   "execution_count": 107,
   "id": "3f50cf47",
   "metadata": {},
   "outputs": [
    {
     "data": {
      "text/plain": [
       "112.1875"
      ]
     },
     "execution_count": 107,
     "metadata": {},
     "output_type": "execute_result"
    }
   ],
   "source": [
    "UL=df.diaBP.quantile(0.75)+1.5*IQR\n",
    "UL"
   ]
  },
  {
   "cell_type": "code",
   "execution_count": 108,
   "id": "efadd521",
   "metadata": {},
   "outputs": [
    {
     "data": {
      "text/plain": [
       "52.6875"
      ]
     },
     "execution_count": 108,
     "metadata": {},
     "output_type": "execute_result"
    }
   ],
   "source": [
    "LL=df.diaBP.quantile(0.25)-1.5*IQR\n",
    "LL"
   ]
  },
  {
   "cell_type": "code",
   "execution_count": 109,
   "id": "e150d029",
   "metadata": {},
   "outputs": [],
   "source": [
    "df.loc[df['diaBP']>=112.1875,'diaBP']=112.1875"
   ]
  },
  {
   "cell_type": "code",
   "execution_count": 110,
   "id": "6d69808f",
   "metadata": {},
   "outputs": [],
   "source": [
    "df.loc[df['diaBP']<=52.6875,'diaBP']=52.6875"
   ]
  },
  {
   "cell_type": "code",
   "execution_count": 111,
   "id": "2a1c5178",
   "metadata": {},
   "outputs": [
    {
     "data": {
      "text/plain": [
       "<AxesSubplot:xlabel='diaBP'>"
      ]
     },
     "execution_count": 111,
     "metadata": {},
     "output_type": "execute_result"
    },
    {
     "data": {
      "image/png": "[encoded data removed]",
      "text/plain": [
       "<Figure size 432x288 with 1 Axes>"
      ]
     },
     "metadata": {
      "needs_background": "light"
     },
     "output_type": "display_data"
    }
   ],
   "source": [
    "sns.boxplot(df.diaBP)"
   ]
  },
  {
   "cell_type": "code",
   "execution_count": 112,
   "id": "437e7e37",
   "metadata": {},
   "outputs": [
    {
     "name": "stdout",
     "output_type": "stream",
     "text": [
      "              df      sum_sq    mean_sq          F        PR(>F)\n",
      "diaBP        1.0   10.776771  10.776771  85.270161  4.014340e-20\n",
      "Residual  4236.0  535.361974   0.126384        NaN           NaN\n"
     ]
    }
   ],
   "source": [
    "#Hypothesis Testing\n",
    "import statsmodels.api as sm\n",
    "from statsmodels.formula.api import ols\n",
    "mod = ols('TenYearCHD ~ diaBP', data = df).fit()\n",
    "aov_table = sm.stats.anova_lm(mod, type = 2)\n",
    "print(aov_table)\n",
    "#4.014340e-20 ie p_value is <0.05; Ho Reject; Good Predictor"
   ]
  },
  {
   "cell_type": "markdown",
   "id": "f125b105",
   "metadata": {},
   "source": [
    "# BMI"
   ]
  },
  {
   "cell_type": "code",
   "execution_count": 113,
   "id": "bc9592c2",
   "metadata": {},
   "outputs": [
    {
     "data": {
      "text/plain": [
       "count    4219.000000\n",
       "mean       25.802008\n",
       "std         4.080111\n",
       "min        15.540000\n",
       "25%        23.070000\n",
       "50%        25.400000\n",
       "75%        28.040000\n",
       "max        56.800000\n",
       "Name: BMI, dtype: float64"
      ]
     },
     "execution_count": 113,
     "metadata": {},
     "output_type": "execute_result"
    }
   ],
   "source": [
    "df.BMI.describe()"
   ]
  },
  {
   "cell_type": "code",
   "execution_count": 114,
   "id": "a8dae004",
   "metadata": {},
   "outputs": [
    {
     "data": {
      "text/plain": [
       "19"
      ]
     },
     "execution_count": 114,
     "metadata": {},
     "output_type": "execute_result"
    }
   ],
   "source": [
    "df.BMI.isnull().sum()"
   ]
  },
  {
   "cell_type": "code",
   "execution_count": 115,
   "id": "4a8754f2",
   "metadata": {},
   "outputs": [],
   "source": [
    "df.BMI.fillna(df.BMI.median(),inplace=True)"
   ]
  },
  {
   "cell_type": "code",
   "execution_count": 116,
   "id": "d23411ce",
   "metadata": {},
   "outputs": [
    {
     "data": {
      "text/plain": [
       "0"
      ]
     },
     "execution_count": 116,
     "metadata": {},
     "output_type": "execute_result"
    }
   ],
   "source": [
    "df.BMI.isnull().sum()"
   ]
  },
  {
   "cell_type": "code",
   "execution_count": 117,
   "id": "c1ee34ea",
   "metadata": {},
   "outputs": [
    {
     "name": "stdout",
     "output_type": "stream",
     "text": [
      "Skewness: 0.985442\n",
      "Kurtosis: 2.683554\n"
     ]
    },
    {
     "data": {
      "image/png": "[encoded data removed]",
      "text/plain": [
       "<Figure size 432x288 with 1 Axes>"
      ]
     },
     "metadata": {
      "needs_background": "light"
     },
     "output_type": "display_data"
    }
   ],
   "source": [
    "sns.distplot(df['BMI']);\n",
    "\n",
    "print(\"Skewness: %f\" % df['BMI'].skew())\n",
    "print(\"Kurtosis: %f\" % df['BMI'].kurt())\n",
    "#BMI Data is normaly Distributed skewness and kurtosis are also in the normality range."
   ]
  },
  {
   "cell_type": "code",
   "execution_count": 118,
   "id": "7f5aff05",
   "metadata": {},
   "outputs": [
    {
     "data": {
      "text/plain": [
       "<AxesSubplot:xlabel='BMI'>"
      ]
     },
     "execution_count": 118,
     "metadata": {},
     "output_type": "execute_result"
    },
    {
     "data": {
      "image/png": "[encoded data removed]",
      "text/plain": [
       "<Figure size 432x288 with 1 Axes>"
      ]
     },
     "metadata": {
      "needs_background": "light"
     },
     "output_type": "display_data"
    }
   ],
   "source": [
    "sns.boxplot(df.BMI)"
   ]
  },
  {
   "cell_type": "code",
   "execution_count": 119,
   "id": "4289a4be",
   "metadata": {},
   "outputs": [
    {
     "data": {
      "text/plain": [
       "4.957500000000003"
      ]
     },
     "execution_count": 119,
     "metadata": {},
     "output_type": "execute_result"
    }
   ],
   "source": [
    "IQR=df.BMI.quantile(0.75)-df.BMI.quantile(0.25)\n",
    "IQR"
   ]
  },
  {
   "cell_type": "code",
   "execution_count": 120,
   "id": "f885feed",
   "metadata": {},
   "outputs": [
    {
     "data": {
      "text/plain": [
       "35.47375000000001"
      ]
     },
     "execution_count": 120,
     "metadata": {},
     "output_type": "execute_result"
    }
   ],
   "source": [
    "UL=df.BMI.quantile(0.75)+1.5*IQR\n",
    "UL"
   ]
  },
  {
   "cell_type": "code",
   "execution_count": 121,
   "id": "ad30d43d",
   "metadata": {},
   "outputs": [
    {
     "data": {
      "text/plain": [
       "15.643749999999994"
      ]
     },
     "execution_count": 121,
     "metadata": {},
     "output_type": "execute_result"
    }
   ],
   "source": [
    "LL=df.BMI.quantile(0.25)-1.5*IQR\n",
    "LL"
   ]
  },
  {
   "cell_type": "code",
   "execution_count": 122,
   "id": "3fbd0e0d",
   "metadata": {},
   "outputs": [],
   "source": [
    "df.loc[df['BMI']>=35.47375000000001,'BMI']=35.47375000000001"
   ]
  },
  {
   "cell_type": "code",
   "execution_count": 123,
   "id": "bf9c7531",
   "metadata": {},
   "outputs": [],
   "source": [
    "df.loc[df['BMI']<=15.643749999999994,'BMI']=15.643749999999994"
   ]
  },
  {
   "cell_type": "code",
   "execution_count": 124,
   "id": "5fc7568d",
   "metadata": {},
   "outputs": [
    {
     "data": {
      "text/plain": [
       "<AxesSubplot:xlabel='BMI'>"
      ]
     },
     "execution_count": 124,
     "metadata": {},
     "output_type": "execute_result"
    },
    {
     "data": {
      "image/png": "[encoded data removed]",
      "text/plain": [
       "<Figure size 432x288 with 1 Axes>"
      ]
     },
     "metadata": {
      "needs_background": "light"
     },
     "output_type": "display_data"
    }
   ],
   "source": [
    "sns.boxplot(df.BMI)"
   ]
  },
  {
   "cell_type": "code",
   "execution_count": 125,
   "id": "24420401",
   "metadata": {},
   "outputs": [
    {
     "name": "stdout",
     "output_type": "stream",
     "text": [
      "              df      sum_sq   mean_sq          F    PR(>F)\n",
      "BMI          1.0    2.771987  2.771987  21.609969  0.000003\n",
      "Residual  4236.0  543.366757  0.128274        NaN       NaN\n"
     ]
    }
   ],
   "source": [
    "#Hypothesis Testing\n",
    "import statsmodels.api as sm\n",
    "from statsmodels.formula.api import ols\n",
    "mod = ols('TenYearCHD ~ BMI', data = df).fit()\n",
    "aov_table = sm.stats.anova_lm(mod, type = 2)\n",
    "print(aov_table)\n",
    "#0.000003 ie p_value is <0.05; Ho Reject; Good Predictor"
   ]
  },
  {
   "cell_type": "markdown",
   "id": "c4ff8a92",
   "metadata": {},
   "source": [
    "# heartRate"
   ]
  },
  {
   "cell_type": "code",
   "execution_count": 126,
   "id": "77d65cdc",
   "metadata": {},
   "outputs": [
    {
     "data": {
      "text/plain": [
       "count    4237.000000\n",
       "mean       75.878924\n",
       "std        12.026596\n",
       "min        44.000000\n",
       "25%        68.000000\n",
       "50%        75.000000\n",
       "75%        83.000000\n",
       "max       143.000000\n",
       "Name: heartRate, dtype: float64"
      ]
     },
     "execution_count": 126,
     "metadata": {},
     "output_type": "execute_result"
    }
   ],
   "source": [
    "df.heartRate.describe()"
   ]
  },
  {
   "cell_type": "code",
   "execution_count": 127,
   "id": "9a04087e",
   "metadata": {},
   "outputs": [
    {
     "data": {
      "text/plain": [
       "1"
      ]
     },
     "execution_count": 127,
     "metadata": {},
     "output_type": "execute_result"
    }
   ],
   "source": [
    "df.heartRate.isnull().sum()"
   ]
  },
  {
   "cell_type": "code",
   "execution_count": 128,
   "id": "b2930f65",
   "metadata": {},
   "outputs": [],
   "source": [
    "df.heartRate.fillna(df.heartRate.median(),inplace=True)"
   ]
  },
  {
   "cell_type": "code",
   "execution_count": 129,
   "id": "4fd63b46",
   "metadata": {},
   "outputs": [
    {
     "data": {
      "text/plain": [
       "0"
      ]
     },
     "execution_count": 129,
     "metadata": {},
     "output_type": "execute_result"
    }
   ],
   "source": [
    "df.heartRate.isnull().sum()"
   ]
  },
  {
   "cell_type": "code",
   "execution_count": 130,
   "id": "fb367726",
   "metadata": {},
   "outputs": [
    {
     "name": "stdout",
     "output_type": "stream",
     "text": [
      "Skewness: 0.644608\n",
      "Kurtosis: 0.908440\n"
     ]
    },
    {
     "data": {
      "image/png": "[encoded data removed]",
      "text/plain": [
       "<Figure size 432x288 with 1 Axes>"
      ]
     },
     "metadata": {
      "needs_background": "light"
     },
     "output_type": "display_data"
    }
   ],
   "source": [
    "sns.distplot(df['heartRate']);\n",
    "\n",
    "print(\"Skewness: %f\" % df['heartRate'].skew())\n",
    "print(\"Kurtosis: %f\" % df['heartRate'].kurt())\n",
    "#heartRate Data is normaly Distributed skewness and kurtosis are also in the normality range."
   ]
  },
  {
   "cell_type": "code",
   "execution_count": 131,
   "id": "9698acfd",
   "metadata": {},
   "outputs": [
    {
     "data": {
      "text/plain": [
       "<AxesSubplot:xlabel='heartRate'>"
      ]
     },
     "execution_count": 131,
     "metadata": {},
     "output_type": "execute_result"
    },
    {
     "data": {
      "image/png": "[encoded data removed]",
      "text/plain": [
       "<Figure size 432x288 with 1 Axes>"
      ]
     },
     "metadata": {
      "needs_background": "light"
     },
     "output_type": "display_data"
    }
   ],
   "source": [
    "sns.boxplot(df.heartRate)"
   ]
  },
  {
   "cell_type": "code",
   "execution_count": 132,
   "id": "bdef9aec",
   "metadata": {},
   "outputs": [
    {
     "data": {
      "text/plain": [
       "15.0"
      ]
     },
     "execution_count": 132,
     "metadata": {},
     "output_type": "execute_result"
    }
   ],
   "source": [
    "IQR=df.heartRate.quantile(0.75)-df.heartRate.quantile(0.25)\n",
    "IQR"
   ]
  },
  {
   "cell_type": "code",
   "execution_count": 133,
   "id": "6e4dbd36",
   "metadata": {},
   "outputs": [
    {
     "data": {
      "text/plain": [
       "105.5"
      ]
     },
     "execution_count": 133,
     "metadata": {},
     "output_type": "execute_result"
    }
   ],
   "source": [
    "UL=df.heartRate.quantile(0.75)+IQR*1.5\n",
    "UL"
   ]
  },
  {
   "cell_type": "code",
   "execution_count": 134,
   "id": "de9c3193",
   "metadata": {},
   "outputs": [
    {
     "data": {
      "text/plain": [
       "45.5"
      ]
     },
     "execution_count": 134,
     "metadata": {},
     "output_type": "execute_result"
    }
   ],
   "source": [
    "LL=df.heartRate.quantile(0.25)-IQR*1.5\n",
    "LL"
   ]
  },
  {
   "cell_type": "code",
   "execution_count": 135,
   "id": "b67b96d3",
   "metadata": {},
   "outputs": [],
   "source": [
    "df.loc[df['heartRate']>=105.5,'heartRate']=105.5"
   ]
  },
  {
   "cell_type": "code",
   "execution_count": 136,
   "id": "44d70c6f",
   "metadata": {},
   "outputs": [],
   "source": [
    "df.loc[df['heartRate']<=45.5,'heartRate']=45.5"
   ]
  },
  {
   "cell_type": "code",
   "execution_count": 137,
   "id": "babb926a",
   "metadata": {},
   "outputs": [
    {
     "data": {
      "text/plain": [
       "<AxesSubplot:xlabel='heartRate'>"
      ]
     },
     "execution_count": 137,
     "metadata": {},
     "output_type": "execute_result"
    },
    {
     "data": {
      "image/png": "[encoded data removed]",
      "text/plain": [
       "<Figure size 432x288 with 1 Axes>"
      ]
     },
     "metadata": {
      "needs_background": "light"
     },
     "output_type": "display_data"
    }
   ],
   "source": [
    "sns.boxplot(df.heartRate)"
   ]
  },
  {
   "cell_type": "code",
   "execution_count": 138,
   "id": "c61a66bd",
   "metadata": {},
   "outputs": [
    {
     "name": "stdout",
     "output_type": "stream",
     "text": [
      "               df      sum_sq   mean_sq         F    PR(>F)\n",
      "heartRate     1.0    0.284592  0.284592  2.208525  0.137324\n",
      "Residual   4236.0  545.854153  0.128861       NaN       NaN\n"
     ]
    }
   ],
   "source": [
    "#Hypothesis Testing\n",
    "import statsmodels.api as sm\n",
    "from statsmodels.formula.api import ols\n",
    "mod = ols('TenYearCHD ~ heartRate', data = df).fit()\n",
    "aov_table = sm.stats.anova_lm(mod, type = 2)\n",
    "print(aov_table)\n",
    "#heartRate ie p_value is >0.05; Ho Accept; Bad Predictor"
   ]
  },
  {
   "cell_type": "markdown",
   "id": "937e7431",
   "metadata": {},
   "source": [
    "# glucose"
   ]
  },
  {
   "cell_type": "code",
   "execution_count": 139,
   "id": "daae5a42",
   "metadata": {},
   "outputs": [
    {
     "data": {
      "text/plain": [
       "count    3850.000000\n",
       "mean       81.966753\n",
       "std        23.959998\n",
       "min        40.000000\n",
       "25%        71.000000\n",
       "50%        78.000000\n",
       "75%        87.000000\n",
       "max       394.000000\n",
       "Name: glucose, dtype: float64"
      ]
     },
     "execution_count": 139,
     "metadata": {},
     "output_type": "execute_result"
    }
   ],
   "source": [
    "df.glucose.describe()"
   ]
  },
  {
   "cell_type": "code",
   "execution_count": 140,
   "id": "3eec7fe4",
   "metadata": {},
   "outputs": [
    {
     "data": {
      "text/plain": [
       "388"
      ]
     },
     "execution_count": 140,
     "metadata": {},
     "output_type": "execute_result"
    }
   ],
   "source": [
    "df.glucose.isnull().sum()"
   ]
  },
  {
   "cell_type": "code",
   "execution_count": 141,
   "id": "c0849f25",
   "metadata": {},
   "outputs": [],
   "source": [
    "df.glucose.fillna(df.glucose.median(),inplace=True)"
   ]
  },
  {
   "cell_type": "code",
   "execution_count": 142,
   "id": "c0174001",
   "metadata": {},
   "outputs": [
    {
     "data": {
      "text/plain": [
       "0"
      ]
     },
     "execution_count": 142,
     "metadata": {},
     "output_type": "execute_result"
    }
   ],
   "source": [
    "df.glucose.isnull().sum()"
   ]
  },
  {
   "cell_type": "code",
   "execution_count": 143,
   "id": "fe40ce20",
   "metadata": {},
   "outputs": [
    {
     "name": "stdout",
     "output_type": "stream",
     "text": [
      "Skewness: 6.541476\n",
      "Kurtosis: 64.957182\n"
     ]
    },
    {
     "data": {
      "image/png": "[encoded data removed]",
      "text/plain": [
       "<Figure size 432x288 with 1 Axes>"
      ]
     },
     "metadata": {
      "needs_background": "light"
     },
     "output_type": "display_data"
    }
   ],
   "source": [
    "sns.distplot(df['glucose']);\n",
    "\n",
    "print(\"Skewness: %f\" % df['glucose'].skew())\n",
    "print(\"Kurtosis: %f\" % df['glucose'].kurt())\n",
    "#glucose Data is not normaly Distributed skewness and kurtosis are ou of the normality range."
   ]
  },
  {
   "cell_type": "code",
   "execution_count": 144,
   "id": "7ced822f",
   "metadata": {},
   "outputs": [],
   "source": [
    "df['glucose_log']=np.log(df['glucose'])"
   ]
  },
  {
   "cell_type": "code",
   "execution_count": 145,
   "id": "6b4d7721",
   "metadata": {},
   "outputs": [
    {
     "name": "stdout",
     "output_type": "stream",
     "text": [
      "Skewness: 2.389870\n",
      "Kurtosis: 13.596579\n"
     ]
    },
    {
     "data": {
      "image/png": "[encoded data removed]",
      "text/plain": [
       "<Figure size 432x288 with 1 Axes>"
      ]
     },
     "metadata": {
      "needs_background": "light"
     },
     "output_type": "display_data"
    }
   ],
   "source": [
    "sns.distplot(df['glucose_log']);\n",
    "\n",
    "print(\"Skewness: %f\" % df['glucose_log'].skew())\n",
    "print(\"Kurtosis: %f\" % df['glucose_log'].kurt())\n",
    "#glucose_log Data is normaly Distributed skewness and kurtosis are also in the normality range."
   ]
  },
  {
   "cell_type": "code",
   "execution_count": 146,
   "id": "3c4a9dac",
   "metadata": {},
   "outputs": [],
   "source": [
    "df['glucose_reciprocal']=1/df.glucose"
   ]
  },
  {
   "cell_type": "code",
   "execution_count": 147,
   "id": "a4c7d519",
   "metadata": {},
   "outputs": [
    {
     "name": "stdout",
     "output_type": "stream",
     "text": [
      "Skewness: -0.320455\n",
      "Kurtosis: 3.461930\n"
     ]
    },
    {
     "data": {
      "image/png": "[encoded data removed]",
      "text/plain": [
       "<Figure size 432x288 with 1 Axes>"
      ]
     },
     "metadata": {
      "needs_background": "light"
     },
     "output_type": "display_data"
    }
   ],
   "source": [
    "sns.distplot(df['glucose_reciprocal']);\n",
    "\n",
    "print(\"Skewness: %f\" % df['glucose_reciprocal'].skew())\n",
    "print(\"Kurtosis: %f\" % df['glucose_reciprocal'].kurt())\n",
    "#glucose_reciprocal Data is normaly Distributed skewness and kurtosis are also in the normality range."
   ]
  },
  {
   "cell_type": "code",
   "execution_count": 148,
   "id": "8a696f04",
   "metadata": {},
   "outputs": [],
   "source": [
    "from matplotlib import pylab\n",
    "from pylab import *"
   ]
  },
  {
   "cell_type": "code",
   "execution_count": 149,
   "id": "298cd00c",
   "metadata": {},
   "outputs": [],
   "source": [
    "#function to return plots for the feature\n",
    "def normality(data,feature):\n",
    "    plt.figure(figsize=(10,5))\n",
    "    plt.subplot(1,2,1)\n",
    "    sns.kdeplot(data[feature])\n",
    "    plt.subplot(1,2,2)\n",
    "    stats.probplot(data[feature],plot=pylab)\n",
    "    plt.show()"
   ]
  },
  {
   "cell_type": "code",
   "execution_count": 150,
   "id": "a7c3d9d3",
   "metadata": {},
   "outputs": [
    {
     "data": {
      "image/png": "[encoded data removed]",
      "text/plain": [
       "<Figure size 720x360 with 2 Axes>"
      ]
     },
     "metadata": {
      "needs_background": "light"
     },
     "output_type": "display_data"
    }
   ],
   "source": [
    "normality(df,'glucose_reciprocal')"
   ]
  },
  {
   "cell_type": "markdown",
   "id": "34c9d319",
   "metadata": {},
   "source": [
    "we will consider reciprocal transformation\n"
   ]
  },
  {
   "cell_type": "code",
   "execution_count": 151,
   "id": "a8a36d2d",
   "metadata": {},
   "outputs": [
    {
     "name": "stdout",
     "output_type": "stream",
     "text": [
      "<class 'pandas.core.frame.DataFrame'>\n",
      "RangeIndex: 4238 entries, 0 to 4237\n",
      "Data columns (total 18 columns):\n",
      " #   Column              Non-Null Count  Dtype  \n",
      "---  ------              --------------  -----  \n",
      " 0   Gender              4238 non-null   int64  \n",
      " 1   age                 4238 non-null   int64  \n",
      " 2   education           4238 non-null   float64\n",
      " 3   currentSmoker       4238 non-null   int64  \n",
      " 4   cigsPerDay          4238 non-null   float64\n",
      " 5   BPMeds              4238 non-null   float64\n",
      " 6   prevalentStroke     4238 non-null   int64  \n",
      " 7   prevalentHyp        4238 non-null   int64  \n",
      " 8   diabetes            4238 non-null   int64  \n",
      " 9   sysBP               4238 non-null   float64\n",
      " 10  diaBP               4238 non-null   float64\n",
      " 11  BMI                 4238 non-null   float64\n",
      " 12  heartRate           4238 non-null   float64\n",
      " 13  glucose             4238 non-null   float64\n",
      " 14  TenYearCHD          4238 non-null   int64  \n",
      " 15  totChol_log         4238 non-null   float64\n",
      " 16  glucose_log         4238 non-null   float64\n",
      " 17  glucose_reciprocal  4238 non-null   float64\n",
      "dtypes: float64(11), int64(7)\n",
      "memory usage: 596.1 KB\n"
     ]
    }
   ],
   "source": [
    "df.info()"
   ]
  },
  {
   "cell_type": "code",
   "execution_count": 152,
   "id": "35583cda",
   "metadata": {},
   "outputs": [],
   "source": [
    "df.drop(['glucose','glucose_log'],axis=1,inplace=True)"
   ]
  },
  {
   "cell_type": "code",
   "execution_count": 153,
   "id": "e5b136b4",
   "metadata": {},
   "outputs": [
    {
     "name": "stdout",
     "output_type": "stream",
     "text": [
      "<class 'pandas.core.frame.DataFrame'>\n",
      "RangeIndex: 4238 entries, 0 to 4237\n",
      "Data columns (total 16 columns):\n",
      " #   Column              Non-Null Count  Dtype  \n",
      "---  ------              --------------  -----  \n",
      " 0   Gender              4238 non-null   int64  \n",
      " 1   age                 4238 non-null   int64  \n",
      " 2   education           4238 non-null   float64\n",
      " 3   currentSmoker       4238 non-null   int64  \n",
      " 4   cigsPerDay          4238 non-null   float64\n",
      " 5   BPMeds              4238 non-null   float64\n",
      " 6   prevalentStroke     4238 non-null   int64  \n",
      " 7   prevalentHyp        4238 non-null   int64  \n",
      " 8   diabetes            4238 non-null   int64  \n",
      " 9   sysBP               4238 non-null   float64\n",
      " 10  diaBP               4238 non-null   float64\n",
      " 11  BMI                 4238 non-null   float64\n",
      " 12  heartRate           4238 non-null   float64\n",
      " 13  TenYearCHD          4238 non-null   int64  \n",
      " 14  totChol_log         4238 non-null   float64\n",
      " 15  glucose_reciprocal  4238 non-null   float64\n",
      "dtypes: float64(9), int64(7)\n",
      "memory usage: 529.9 KB\n"
     ]
    }
   ],
   "source": [
    "df.info()"
   ]
  },
  {
   "cell_type": "code",
   "execution_count": 154,
   "id": "b7bb7764",
   "metadata": {},
   "outputs": [
    {
     "name": "stdout",
     "output_type": "stream",
     "text": [
      "                        df      sum_sq   mean_sq          F        PR(>F)\n",
      "glucose_reciprocal     1.0    3.494617  3.494617  27.279756  1.844975e-07\n",
      "Residual            4236.0  542.644127  0.128103        NaN           NaN\n"
     ]
    }
   ],
   "source": [
    "#Hypothesis Testing\n",
    "import statsmodels.api as sm\n",
    "from statsmodels.formula.api import ols\n",
    "mod = ols('TenYearCHD ~ glucose_reciprocal', data = df).fit()\n",
    "aov_table = sm.stats.anova_lm(mod, type = 2)\n",
    "print(aov_table)\n",
    "#glucose_reciprocal  ie p_value is <0.05; Ho Reject; Good Predictor"
   ]
  },
  {
   "cell_type": "markdown",
   "id": "f8d5c20f",
   "metadata": {},
   "source": [
    "# TenYearCHD"
   ]
  },
  {
   "cell_type": "code",
   "execution_count": 155,
   "id": "1e5ffd9e",
   "metadata": {},
   "outputs": [
    {
     "data": {
      "text/plain": [
       "count    4238.000000\n",
       "mean        0.151958\n",
       "std         0.359023\n",
       "min         0.000000\n",
       "25%         0.000000\n",
       "50%         0.000000\n",
       "75%         0.000000\n",
       "max         1.000000\n",
       "Name: TenYearCHD, dtype: float64"
      ]
     },
     "execution_count": 155,
     "metadata": {},
     "output_type": "execute_result"
    }
   ],
   "source": [
    "df.TenYearCHD.describe()"
   ]
  },
  {
   "cell_type": "code",
   "execution_count": 156,
   "id": "ed15eed8",
   "metadata": {},
   "outputs": [
    {
     "data": {
      "text/plain": [
       "0    3594\n",
       "1     644\n",
       "Name: TenYearCHD, dtype: int64"
      ]
     },
     "execution_count": 156,
     "metadata": {},
     "output_type": "execute_result"
    }
   ],
   "source": [
    "df.TenYearCHD.value_counts()"
   ]
  },
  {
   "cell_type": "code",
   "execution_count": 157,
   "id": "64a416b2",
   "metadata": {},
   "outputs": [
    {
     "data": {
      "text/plain": [
       "0"
      ]
     },
     "execution_count": 157,
     "metadata": {},
     "output_type": "execute_result"
    }
   ],
   "source": [
    "df.TenYearCHD.isnull().sum()"
   ]
  },
  {
   "cell_type": "code",
   "execution_count": 158,
   "id": "b26972bc",
   "metadata": {
    "scrolled": true
   },
   "outputs": [
    {
     "data": {
      "text/plain": [
       "Text(0.5, 1.0, 'TenYearCHD - count')"
      ]
     },
     "execution_count": 158,
     "metadata": {},
     "output_type": "execute_result"
    },
    {
     "data": {
      "image/png": "[encoded data removed]",
      "text/plain": [
       "<Figure size 432x288 with 1 Axes>"
      ]
     },
     "metadata": {
      "needs_background": "light"
     },
     "output_type": "display_data"
    }
   ],
   "source": [
    "sns.countplot(x = 'TenYearCHD', data = df)\n",
    "plt.title('TenYearCHD - count')"
   ]
  },
  {
   "cell_type": "markdown",
   "id": "fe5cfb8d",
   "metadata": {},
   "source": [
    "# Model-1"
   ]
  },
  {
   "cell_type": "code",
   "execution_count": 159,
   "id": "ecef6b22",
   "metadata": {},
   "outputs": [
    {
     "name": "stdout",
     "output_type": "stream",
     "text": [
      "<class 'pandas.core.frame.DataFrame'>\n",
      "RangeIndex: 4238 entries, 0 to 4237\n",
      "Data columns (total 16 columns):\n",
      " #   Column              Non-Null Count  Dtype  \n",
      "---  ------              --------------  -----  \n",
      " 0   Gender              4238 non-null   int64  \n",
      " 1   age                 4238 non-null   int64  \n",
      " 2   education           4238 non-null   float64\n",
      " 3   currentSmoker       4238 non-null   int64  \n",
      " 4   cigsPerDay          4238 non-null   float64\n",
      " 5   BPMeds              4238 non-null   float64\n",
      " 6   prevalentStroke     4238 non-null   int64  \n",
      " 7   prevalentHyp        4238 non-null   int64  \n",
      " 8   diabetes            4238 non-null   int64  \n",
      " 9   sysBP               4238 non-null   float64\n",
      " 10  diaBP               4238 non-null   float64\n",
      " 11  BMI                 4238 non-null   float64\n",
      " 12  heartRate           4238 non-null   float64\n",
      " 13  TenYearCHD          4238 non-null   int64  \n",
      " 14  totChol_log         4238 non-null   float64\n",
      " 15  glucose_reciprocal  4238 non-null   float64\n",
      "dtypes: float64(9), int64(7)\n",
      "memory usage: 529.9 KB\n"
     ]
    }
   ],
   "source": [
    "df.info()"
   ]
  },
  {
   "cell_type": "code",
   "execution_count": 160,
   "id": "74a66816",
   "metadata": {},
   "outputs": [],
   "source": [
    "from sklearn.metrics import classification_report, confusion_matrix"
   ]
  },
  {
   "cell_type": "code",
   "execution_count": 161,
   "id": "c0cc2ebe",
   "metadata": {},
   "outputs": [
    {
     "name": "stdout",
     "output_type": "stream",
     "text": [
      "<class 'pandas.core.frame.DataFrame'>\n",
      "RangeIndex: 4238 entries, 0 to 4237\n",
      "Data columns (total 13 columns):\n",
      " #   Column              Non-Null Count  Dtype  \n",
      "---  ------              --------------  -----  \n",
      " 0   Gender              4238 non-null   int64  \n",
      " 1   age                 4238 non-null   int64  \n",
      " 2   education           4238 non-null   float64\n",
      " 3   cigsPerDay          4238 non-null   float64\n",
      " 4   BPMeds              4238 non-null   float64\n",
      " 5   prevalentStroke     4238 non-null   int64  \n",
      " 6   prevalentHyp        4238 non-null   int64  \n",
      " 7   diabetes            4238 non-null   int64  \n",
      " 8   sysBP               4238 non-null   float64\n",
      " 9   diaBP               4238 non-null   float64\n",
      " 10  BMI                 4238 non-null   float64\n",
      " 11  totChol_log         4238 non-null   float64\n",
      " 12  glucose_reciprocal  4238 non-null   float64\n",
      "dtypes: float64(8), int64(5)\n",
      "memory usage: 430.5 KB\n"
     ]
    }
   ],
   "source": [
    "x=df.iloc[:,[0,1,2,4,5,6,7,8,9,10,11,14,15]]\n",
    "x.info()"
   ]
  },
  {
   "cell_type": "code",
   "execution_count": 162,
   "id": "87d2dd2d",
   "metadata": {},
   "outputs": [
    {
     "data": {
      "text/plain": [
       "0    0\n",
       "1    0\n",
       "2    0\n",
       "3    1\n",
       "4    0\n",
       "5    0\n",
       "6    1\n",
       "7    0\n",
       "8    0\n",
       "9    0\n",
       "Name: TenYearCHD, dtype: int64"
      ]
     },
     "execution_count": 162,
     "metadata": {},
     "output_type": "execute_result"
    }
   ],
   "source": [
    "y=df.iloc[:,13]\n",
    "y.head(10)"
   ]
  },
  {
   "cell_type": "code",
   "execution_count": 163,
   "id": "11dfbaf8",
   "metadata": {},
   "outputs": [
    {
     "data": {
      "text/plain": [
       "LogisticRegression(random_state=0, solver='liblinear')"
      ]
     },
     "execution_count": 163,
     "metadata": {},
     "output_type": "execute_result"
    }
   ],
   "source": [
    "from sklearn.linear_model import LogisticRegression\n",
    "model1 = LogisticRegression(solver='liblinear', random_state=0)\n",
    "model1.fit(x, y)"
   ]
  },
  {
   "cell_type": "code",
   "execution_count": 164,
   "id": "adcac675",
   "metadata": {},
   "outputs": [
    {
     "data": {
      "text/plain": [
       "array([-1.71937616])"
      ]
     },
     "execution_count": 164,
     "metadata": {},
     "output_type": "execute_result"
    }
   ],
   "source": [
    "model1.intercept_"
   ]
  },
  {
   "cell_type": "code",
   "execution_count": 165,
   "id": "b71c27bd",
   "metadata": {},
   "outputs": [
    {
     "data": {
      "text/plain": [
       "array([[ 0.42016206,  0.06053463, -0.03391511,  0.02085368,  0.3269933 ,\n",
       "         0.81880598,  0.36787514,  0.7615195 ,  0.0146309 , -0.00789883,\n",
       "        -0.00580686, -0.87830958, -0.05955757]])"
      ]
     },
     "execution_count": 165,
     "metadata": {},
     "output_type": "execute_result"
    }
   ],
   "source": [
    "model1.coef_"
   ]
  },
  {
   "cell_type": "code",
   "execution_count": 166,
   "id": "eb0d02d2",
   "metadata": {},
   "outputs": [],
   "source": [
    "#Predictions\n",
    "y_pred = model1.predict(x)"
   ]
  },
  {
   "cell_type": "code",
   "execution_count": 167,
   "id": "3d1fddc0",
   "metadata": {},
   "outputs": [
    {
     "name": "stdout",
     "output_type": "stream",
     "text": [
      "[[3572   22]\n",
      " [ 606   38]]\n"
     ]
    }
   ],
   "source": [
    "#Confusion matrix\n",
    "from sklearn import metrics\n",
    "cm = metrics.confusion_matrix(y, y_pred)\n",
    "print(cm)"
   ]
  },
  {
   "cell_type": "code",
   "execution_count": 168,
   "id": "0a411764",
   "metadata": {},
   "outputs": [
    {
     "data": {
      "text/plain": [
       "0.85181689476168"
      ]
     },
     "execution_count": 168,
     "metadata": {},
     "output_type": "execute_result"
    }
   ],
   "source": [
    "#Accuracy Score - correct predictions / total number of data points\n",
    "model1.score(x,y)#0.85181689476168"
   ]
  },
  {
   "cell_type": "code",
   "execution_count": 169,
   "id": "e085bba8",
   "metadata": {},
   "outputs": [
    {
     "name": "stdout",
     "output_type": "stream",
     "text": [
      "0.7235104573875714\n"
     ]
    }
   ],
   "source": [
    "#ROC Curve - Receiver Operating Characteristic curve\n",
    "#tpr = True Positive Rate \n",
    "#fpr = False Positive Rate\n",
    "from sklearn.metrics import roc_curve, auc, roc_auc_score\n",
    "y_pred_prob = model1.predict_proba(x)\n",
    "fpr, tpr, thresholds =roc_curve(df[\"TenYearCHD\"], y_pred_prob[:,1])\n",
    "roc_auc = auc(fpr, tpr) #Area under Curve 0.74911\n",
    "print(roc_auc)"
   ]
  },
  {
   "cell_type": "code",
   "execution_count": 170,
   "id": "60cfc064",
   "metadata": {},
   "outputs": [
    {
     "data": {
      "image/png": "[encoded data removed]",
      "text/plain": [
       "<Figure size 432x288 with 1 Axes>"
      ]
     },
     "metadata": {
      "needs_background": "light"
     },
     "output_type": "display_data"
    }
   ],
   "source": [
    "#ROC Curve\n",
    "plt.title('ROC Curve for TenYearCHD Classifier')\n",
    "plt.xlabel('False Positive Rate (1-Specificity)')\n",
    "plt.ylabel('True Positive Rate (Sensitivity)')\n",
    "plt.plot([0, 1], [0, 1],'r--')\n",
    "plt.xlim([0, 1])\n",
    "plt.ylim([0, 1])\n",
    "plt.plot(fpr, tpr, label = 'AUC =' +str(roc_auc))\n",
    "plt.legend(loc=4) #Location of label\n",
    "plt.show()"
   ]
  },
  {
   "cell_type": "code",
   "execution_count": 171,
   "id": "d15b562f",
   "metadata": {},
   "outputs": [
    {
     "name": "stdout",
     "output_type": "stream",
     "text": [
      "              precision    recall  f1-score   support\n",
      "\n",
      "           0       0.85      0.99      0.92      3594\n",
      "           1       0.63      0.06      0.11       644\n",
      "\n",
      "    accuracy                           0.85      4238\n",
      "   macro avg       0.74      0.53      0.51      4238\n",
      "weighted avg       0.82      0.85      0.80      4238\n",
      "\n"
     ]
    }
   ],
   "source": [
    "#Classification report\n",
    "from sklearn.metrics import classification_report\n",
    "print(classification_report(y, y_pred))"
   ]
  },
  {
   "cell_type": "markdown",
   "id": "bb294ad1",
   "metadata": {},
   "source": [
    "# Model2"
   ]
  },
  {
   "cell_type": "code",
   "execution_count": 173,
   "id": "c7ff99a8",
   "metadata": {},
   "outputs": [],
   "source": [
    "from sklearn.linear_model import LogisticRegression\n",
    "from sklearn import metrics"
   ]
  },
  {
   "cell_type": "code",
   "execution_count": 174,
   "id": "124641b4",
   "metadata": {},
   "outputs": [
    {
     "data": {
      "text/plain": [
       "LogisticRegression()"
      ]
     },
     "execution_count": 174,
     "metadata": {},
     "output_type": "execute_result"
    }
   ],
   "source": [
    "x_train, x_test, y_train, y_test = train_test_split(x, y, test_size=0.3, random_state=0)\n",
    "logreg = LogisticRegression()\n",
    "logreg.fit(x_train, y_train)"
   ]
  },
  {
   "cell_type": "markdown",
   "id": "0bc577e2",
   "metadata": {},
   "source": [
    "## Predicting the test set results and calculating the accuracy"
   ]
  },
  {
   "cell_type": "code",
   "execution_count": 176,
   "id": "a35ffa1c",
   "metadata": {},
   "outputs": [
    {
     "name": "stdout",
     "output_type": "stream",
     "text": [
      "Accuracy of logistic regression classifier on test set: 0.85\n"
     ]
    }
   ],
   "source": [
    "y_pred = logreg.predict(x_test)\n",
    "print('Accuracy of logistic regression classifier on test set: {:.2f}'.format(logreg.score(x_test, y_test)))"
   ]
  },
  {
   "cell_type": "markdown",
   "id": "749664eb",
   "metadata": {},
   "source": [
    "## Confusion Matrix"
   ]
  },
  {
   "cell_type": "code",
   "execution_count": 177,
   "id": "520c6191",
   "metadata": {},
   "outputs": [
    {
     "name": "stdout",
     "output_type": "stream",
     "text": [
      "[[1067    7]\n",
      " [ 189    9]]\n"
     ]
    }
   ],
   "source": [
    "from sklearn.metrics import confusion_matrix\n",
    "confusion_matrix = confusion_matrix(y_test, y_pred)\n",
    "print(confusion_matrix)"
   ]
  },
  {
   "cell_type": "code",
   "execution_count": 178,
   "id": "8f37af0a",
   "metadata": {},
   "outputs": [
    {
     "name": "stdout",
     "output_type": "stream",
     "text": [
      "              precision    recall  f1-score   support\n",
      "\n",
      "           0       0.85      0.99      0.92      1074\n",
      "           1       0.56      0.05      0.08       198\n",
      "\n",
      "    accuracy                           0.85      1272\n",
      "   macro avg       0.71      0.52      0.50      1272\n",
      "weighted avg       0.80      0.85      0.79      1272\n",
      "\n"
     ]
    }
   ],
   "source": [
    "from sklearn.metrics import classification_report\n",
    "print(classification_report(y_test, y_pred))"
   ]
  },
  {
   "cell_type": "code",
   "execution_count": 179,
   "id": "055ab675",
   "metadata": {},
   "outputs": [
    {
     "data": {
      "image/png": "[encoded data removed]",
      "text/plain": [
       "<Figure size 432x288 with 1 Axes>"
      ]
     },
     "metadata": {
      "needs_background": "light"
     },
     "output_type": "display_data"
    }
   ],
   "source": [
    "from sklearn.metrics import roc_auc_score\n",
    "from sklearn.metrics import roc_curve\n",
    "logit_roc_auc = roc_auc_score(y_test, logreg.predict(x_test))\n",
    "fpr, tpr, thresholds = roc_curve(y_test, logreg.predict_proba(x_test)[:,1])\n",
    "plt.figure()\n",
    "plt.plot(fpr, tpr, label='Logistic Regression (area = %0.2f)' % logit_roc_auc)\n",
    "plt.plot([0, 1], [0, 1],'r--')\n",
    "plt.xlim([0.0, 1.0])\n",
    "plt.ylim([0.0, 1.05])\n",
    "plt.xlabel('False Positive Rate')\n",
    "plt.ylabel('True Positive Rate')\n",
    "plt.title('Receiver operating characteristic')\n",
    "plt.legend(loc=\"lower right\")\n",
    "plt.savefig('Log_ROC')\n",
    "plt.show()"
   ]
  },
  {
   "cell_type": "markdown",
   "id": "35d14851",
   "metadata": {},
   "source": [
    "# Model3"
   ]
  },
  {
   "cell_type": "code",
   "execution_count": 192,
   "id": "f9b90da4",
   "metadata": {},
   "outputs": [],
   "source": [
    "df2=pd.DataFrame(df)"
   ]
  },
  {
   "cell_type": "code",
   "execution_count": 193,
   "id": "07b1c70a",
   "metadata": {},
   "outputs": [
    {
     "name": "stdout",
     "output_type": "stream",
     "text": [
      "<class 'pandas.core.frame.DataFrame'>\n",
      "RangeIndex: 4238 entries, 0 to 4237\n",
      "Data columns (total 16 columns):\n",
      " #   Column              Non-Null Count  Dtype  \n",
      "---  ------              --------------  -----  \n",
      " 0   Gender              4238 non-null   int64  \n",
      " 1   age                 4238 non-null   int64  \n",
      " 2   education           4238 non-null   float64\n",
      " 3   currentSmoker       4238 non-null   int64  \n",
      " 4   cigsPerDay          4238 non-null   float64\n",
      " 5   BPMeds              4238 non-null   float64\n",
      " 6   prevalentStroke     4238 non-null   int64  \n",
      " 7   prevalentHyp        4238 non-null   int64  \n",
      " 8   diabetes            4238 non-null   int64  \n",
      " 9   sysBP               4238 non-null   float64\n",
      " 10  diaBP               4238 non-null   float64\n",
      " 11  BMI                 4238 non-null   float64\n",
      " 12  heartRate           4238 non-null   float64\n",
      " 13  TenYearCHD          4238 non-null   int64  \n",
      " 14  totChol_log         4238 non-null   float64\n",
      " 15  glucose_reciprocal  4238 non-null   float64\n",
      "dtypes: float64(9), int64(7)\n",
      "memory usage: 529.9 KB\n"
     ]
    }
   ],
   "source": [
    "df2.info()"
   ]
  },
  {
   "cell_type": "code",
   "execution_count": 203,
   "id": "2be51bdd",
   "metadata": {},
   "outputs": [],
   "source": [
    "df2.drop(['heartRate','currentSmoker'],axis=1,inplace=True)"
   ]
  },
  {
   "cell_type": "code",
   "execution_count": 204,
   "id": "8cca59f7",
   "metadata": {},
   "outputs": [],
   "source": [
    "x=df2.iloc[:,df2.columns!='TenYearCHD']"
   ]
  },
  {
   "cell_type": "code",
   "execution_count": 205,
   "id": "4f00ff08",
   "metadata": {},
   "outputs": [],
   "source": [
    "y=df2.iloc[:,df2.columns=='TenYearCHD']"
   ]
  },
  {
   "cell_type": "code",
   "execution_count": 206,
   "id": "16f85ac4",
   "metadata": {},
   "outputs": [
    {
     "name": "stdout",
     "output_type": "stream",
     "text": [
      "<class 'pandas.core.frame.DataFrame'>\n",
      "RangeIndex: 4238 entries, 0 to 4237\n",
      "Data columns (total 13 columns):\n",
      " #   Column              Non-Null Count  Dtype  \n",
      "---  ------              --------------  -----  \n",
      " 0   Gender              4238 non-null   int64  \n",
      " 1   age                 4238 non-null   int64  \n",
      " 2   education           4238 non-null   float64\n",
      " 3   cigsPerDay          4238 non-null   float64\n",
      " 4   BPMeds              4238 non-null   float64\n",
      " 5   prevalentStroke     4238 non-null   int64  \n",
      " 6   prevalentHyp        4238 non-null   int64  \n",
      " 7   diabetes            4238 non-null   int64  \n",
      " 8   sysBP               4238 non-null   float64\n",
      " 9   diaBP               4238 non-null   float64\n",
      " 10  BMI                 4238 non-null   float64\n",
      " 11  totChol_log         4238 non-null   float64\n",
      " 12  glucose_reciprocal  4238 non-null   float64\n",
      "dtypes: float64(8), int64(5)\n",
      "memory usage: 430.5 KB\n"
     ]
    }
   ],
   "source": [
    "x.info()"
   ]
  },
  {
   "cell_type": "code",
   "execution_count": 207,
   "id": "efac9fe2",
   "metadata": {},
   "outputs": [
    {
     "name": "stdout",
     "output_type": "stream",
     "text": [
      "<class 'pandas.core.frame.DataFrame'>\n",
      "RangeIndex: 4238 entries, 0 to 4237\n",
      "Data columns (total 1 columns):\n",
      " #   Column      Non-Null Count  Dtype\n",
      "---  ------      --------------  -----\n",
      " 0   TenYearCHD  4238 non-null   int64\n",
      "dtypes: int64(1)\n",
      "memory usage: 33.2 KB\n"
     ]
    }
   ],
   "source": [
    "y.info()"
   ]
  },
  {
   "cell_type": "code",
   "execution_count": 208,
   "id": "6f60869b",
   "metadata": {},
   "outputs": [
    {
     "data": {
      "text/plain": [
       "TenYearCHD\n",
       "0             3594\n",
       "1              644\n",
       "dtype: int64"
      ]
     },
     "execution_count": 208,
     "metadata": {},
     "output_type": "execute_result"
    }
   ],
   "source": [
    "y.value_counts()"
   ]
  },
  {
   "cell_type": "code",
   "execution_count": 209,
   "id": "8e9809d9",
   "metadata": {},
   "outputs": [],
   "source": [
    "x_train,x_test,y_train,y_test=train_test_split(x,y,test_size=0.3,random_state=0)"
   ]
  },
  {
   "cell_type": "code",
   "execution_count": 210,
   "id": "480560f0",
   "metadata": {},
   "outputs": [
    {
     "data": {
      "text/plain": [
       "(1272, 13)"
      ]
     },
     "execution_count": 210,
     "metadata": {},
     "output_type": "execute_result"
    }
   ],
   "source": [
    "x_test.shape"
   ]
  },
  {
   "cell_type": "code",
   "execution_count": 211,
   "id": "b5f4578d",
   "metadata": {},
   "outputs": [
    {
     "data": {
      "text/plain": [
       "(2966, 13)"
      ]
     },
     "execution_count": 211,
     "metadata": {},
     "output_type": "execute_result"
    }
   ],
   "source": [
    "x_train.shape"
   ]
  },
  {
   "cell_type": "markdown",
   "id": "5d9cdb60",
   "metadata": {},
   "source": [
    "join horzontally x_train,y_train"
   ]
  },
  {
   "cell_type": "code",
   "execution_count": 212,
   "id": "d2ecdd0b",
   "metadata": {},
   "outputs": [],
   "source": [
    "train=x_train.join(y_train)"
   ]
  },
  {
   "cell_type": "code",
   "execution_count": 213,
   "id": "a4caba8a",
   "metadata": {},
   "outputs": [
    {
     "name": "stdout",
     "output_type": "stream",
     "text": [
      "<class 'pandas.core.frame.DataFrame'>\n",
      "Int64Index: 2966 entries, 264 to 2732\n",
      "Data columns (total 14 columns):\n",
      " #   Column              Non-Null Count  Dtype  \n",
      "---  ------              --------------  -----  \n",
      " 0   Gender              2966 non-null   int64  \n",
      " 1   age                 2966 non-null   int64  \n",
      " 2   education           2966 non-null   float64\n",
      " 3   cigsPerDay          2966 non-null   float64\n",
      " 4   BPMeds              2966 non-null   float64\n",
      " 5   prevalentStroke     2966 non-null   int64  \n",
      " 6   prevalentHyp        2966 non-null   int64  \n",
      " 7   diabetes            2966 non-null   int64  \n",
      " 8   sysBP               2966 non-null   float64\n",
      " 9   diaBP               2966 non-null   float64\n",
      " 10  BMI                 2966 non-null   float64\n",
      " 11  totChol_log         2966 non-null   float64\n",
      " 12  glucose_reciprocal  2966 non-null   float64\n",
      " 13  TenYearCHD          2966 non-null   int64  \n",
      "dtypes: float64(8), int64(6)\n",
      "memory usage: 412.1 KB\n"
     ]
    }
   ],
   "source": [
    "train.info()"
   ]
  },
  {
   "cell_type": "code",
   "execution_count": 214,
   "id": "48957ba1",
   "metadata": {},
   "outputs": [
    {
     "data": {
      "text/plain": [
       "(2966, 14)"
      ]
     },
     "execution_count": 214,
     "metadata": {},
     "output_type": "execute_result"
    }
   ],
   "source": [
    "train.shape"
   ]
  },
  {
   "cell_type": "code",
   "execution_count": 215,
   "id": "e2188004",
   "metadata": {},
   "outputs": [
    {
     "data": {
      "text/plain": [
       "2520"
      ]
     },
     "execution_count": 215,
     "metadata": {},
     "output_type": "execute_result"
    }
   ],
   "source": [
    "no_chd=train[train.TenYearCHD==0]\n",
    "len(no_chd)"
   ]
  },
  {
   "cell_type": "code",
   "execution_count": 216,
   "id": "98d70ab4",
   "metadata": {},
   "outputs": [
    {
     "data": {
      "text/plain": [
       "446"
      ]
     },
     "execution_count": 216,
     "metadata": {},
     "output_type": "execute_result"
    }
   ],
   "source": [
    "chd=train[train.TenYearCHD==1]\n",
    "len(chd)"
   ]
  },
  {
   "cell_type": "code",
   "execution_count": null,
   "id": "66b8fbb8",
   "metadata": {
    "scrolled": true
   },
   "outputs": [],
   "source": []
  },
  {
   "cell_type": "code",
   "execution_count": 217,
   "id": "d22e13b9",
   "metadata": {},
   "outputs": [],
   "source": [
    "#upsample minority with replacement\n",
    "from sklearn.utils import resample\n",
    "chd_os=resample(chd,\n",
    "              replace=True,\n",
    "              n_samples=len(no_chd),\n",
    "              random_state=27)"
   ]
  },
  {
   "cell_type": "markdown",
   "id": "b78f6175",
   "metadata": {},
   "source": [
    "### Combine Vertically"
   ]
  },
  {
   "cell_type": "code",
   "execution_count": 218,
   "id": "16dfa914",
   "metadata": {},
   "outputs": [],
   "source": [
    "train_os=pd.concat([no_chd,chd_os])"
   ]
  },
  {
   "cell_type": "code",
   "execution_count": 219,
   "id": "351b4979",
   "metadata": {},
   "outputs": [
    {
     "data": {
      "text/plain": [
       "0    2520\n",
       "1    2520\n",
       "Name: TenYearCHD, dtype: int64"
      ]
     },
     "execution_count": 219,
     "metadata": {},
     "output_type": "execute_result"
    }
   ],
   "source": [
    "train_os.TenYearCHD.value_counts()"
   ]
  },
  {
   "cell_type": "code",
   "execution_count": 221,
   "id": "e3625ebb",
   "metadata": {},
   "outputs": [],
   "source": [
    "x_trainos=train_os.loc[:,train_os.columns != 'TenYearCHD']"
   ]
  },
  {
   "cell_type": "code",
   "execution_count": 222,
   "id": "fc0221dc",
   "metadata": {},
   "outputs": [],
   "source": [
    "y_trainos=train_os.loc[:,train_os.columns == 'TenYearCHD']"
   ]
  },
  {
   "cell_type": "code",
   "execution_count": null,
   "id": "b426253e",
   "metadata": {},
   "outputs": [],
   "source": []
  },
  {
   "cell_type": "code",
   "execution_count": 223,
   "id": "0cb8218a",
   "metadata": {},
   "outputs": [],
   "source": [
    "from sklearn.linear_model import LogisticRegression\n",
    "from sklearn import metrics"
   ]
  },
  {
   "cell_type": "code",
   "execution_count": 224,
   "id": "b9098d5a",
   "metadata": {},
   "outputs": [
    {
     "data": {
      "text/plain": [
       "LogisticRegression()"
      ]
     },
     "execution_count": 224,
     "metadata": {},
     "output_type": "execute_result"
    }
   ],
   "source": [
    "logreg = LogisticRegression()\n",
    "logreg.fit(x_trainos, y_trainos)"
   ]
  },
  {
   "cell_type": "markdown",
   "id": "12ef8f52",
   "metadata": {},
   "source": [
    "Predicting the test set results and calculating the accuracy"
   ]
  },
  {
   "cell_type": "code",
   "execution_count": 225,
   "id": "5537cc30",
   "metadata": {},
   "outputs": [
    {
     "name": "stdout",
     "output_type": "stream",
     "text": [
      "Accuracy of logistic regression classifier on test set: 0.68\n"
     ]
    }
   ],
   "source": [
    "y_pred = logreg.predict(x_test)\n",
    "print('Accuracy of logistic regression classifier on test set: {:.2f}'.format(logreg.score(x_test, y_test)))"
   ]
  },
  {
   "cell_type": "markdown",
   "id": "76ffd011",
   "metadata": {},
   "source": [
    "# confusion matrix"
   ]
  },
  {
   "cell_type": "code",
   "execution_count": 226,
   "id": "0d02b232",
   "metadata": {},
   "outputs": [
    {
     "name": "stdout",
     "output_type": "stream",
     "text": [
      "[[729 345]\n",
      " [ 66 132]]\n"
     ]
    }
   ],
   "source": [
    "from sklearn.metrics import confusion_matrix\n",
    "confusion_matrix = confusion_matrix(y_test, y_pred)\n",
    "print(confusion_matrix)"
   ]
  },
  {
   "cell_type": "code",
   "execution_count": 227,
   "id": "c5fe29f0",
   "metadata": {},
   "outputs": [
    {
     "name": "stdout",
     "output_type": "stream",
     "text": [
      "              precision    recall  f1-score   support\n",
      "\n",
      "           0       0.92      0.68      0.78      1074\n",
      "           1       0.28      0.67      0.39       198\n",
      "\n",
      "    accuracy                           0.68      1272\n",
      "   macro avg       0.60      0.67      0.59      1272\n",
      "weighted avg       0.82      0.68      0.72      1272\n",
      "\n"
     ]
    }
   ],
   "source": [
    "from sklearn.metrics import classification_report\n",
    "print(classification_report(y_test, y_pred))"
   ]
  },
  {
   "cell_type": "code",
   "execution_count": 228,
   "id": "9c5ef285",
   "metadata": {},
   "outputs": [
    {
     "data": {
      "image/png": "[encoded data removed]",
      "text/plain": [
       "<Figure size 432x288 with 1 Axes>"
      ]
     },
     "metadata": {
      "needs_background": "light"
     },
     "output_type": "display_data"
    }
   ],
   "source": [
    "from sklearn.metrics import roc_auc_score\n",
    "from sklearn.metrics import roc_curve\n",
    "logit_roc_auc = roc_auc_score(y_test, logreg.predict(x_test))\n",
    "fpr, tpr, thresholds = roc_curve(y_test, logreg.predict_proba(x_test)[:,1])\n",
    "plt.figure()\n",
    "plt.plot(fpr, tpr, label='Logistic Regression (area = %0.2f)' % logit_roc_auc)\n",
    "plt.plot([0, 1], [0, 1],'r--')\n",
    "plt.xlim([0.0, 1.0])\n",
    "plt.ylim([0.0, 1.05])\n",
    "plt.xlabel('False Positive Rate')\n",
    "plt.ylabel('True Positive Rate')\n",
    "plt.title('Receiver operating characteristic')\n",
    "plt.legend(loc=\"lower right\")\n",
    "plt.savefig('Log_ROC')\n",
    "plt.show()"
   ]
  },
  {
   "cell_type": "code",
   "execution_count": 229,
   "id": "ee2437f4",
   "metadata": {},
   "outputs": [],
   "source": [
    "#model1 is giving good result"
   ]
  }
 ],
 "metadata": {
  "kernelspec": {
   "display_name": "Python 3 (ipykernel)",
   "language": "python",
   "name": "python3"
  },
  "language_info": {
   "codemirror_mode": {
    "name": "ipython",
    "version": 3
   },
   "file_extension": ".py",
   "mimetype": "text/x-python",
   "name": "python",
   "nbconvert_exporter": "python",
   "pygments_lexer": "ipython3",
   "version": "3.9.7"
  }
 },
 "nbformat": 4,
 "nbformat_minor": 5
}
